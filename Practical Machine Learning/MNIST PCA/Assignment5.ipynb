{
 "cells": [
  {
   "cell_type": "markdown",
   "metadata": {},
   "source": [
    "## MSDS422 Assignment 5 - Principal Component Analysis\n",
    "\n",
    "**Table of contents:**\n",
    "\n",
    "*   System & Data Setup (MNIST)\n",
    "*   Model 1: Random Forest Fit w/ out PCA\n",
    "*   Model 2: Principal Component Analysis\n",
    "*   Model 3: Random Forest w/ reduced data set\n",
    "*   Analysis: Model Comparison and Timing\n",
    "*   Model 4: re-run dimension reduction on training data & re-run model\n",
    "*   Conclusion"
   ]
  },
  {
   "cell_type": "markdown",
   "metadata": {},
   "source": [
    "## Setup"
   ]
  },
  {
   "cell_type": "code",
   "execution_count": 1,
   "metadata": {},
   "outputs": [],
   "source": [
    "from __future__ import division, print_function, unicode_literals\n",
    "\n",
    "# Common imports\n",
    "import numpy as np\n",
    "import os\n",
    "# To plot pretty figures\n",
    "%matplotlib inline\n",
    "import matplotlib as mpl\n",
    "import matplotlib.pyplot as plt\n",
    "import seaborn as sns\n",
    "import time\n",
    "import pandas as pd\n",
    "from sklearn.model_selection import train_test_split"
   ]
  },
  {
   "cell_type": "markdown",
   "metadata": {},
   "source": [
    "### MNIST Dataset"
   ]
  },
  {
   "cell_type": "code",
   "execution_count": 2,
   "metadata": {},
   "outputs": [],
   "source": [
    "def sort_by_target(mnist):\n",
    "    reorder_train = np.array(sorted([(target, i) for i, target in enumerate(mnist.target[:60000])]))[:, 1]\n",
    "    reorder_test = np.array(sorted([(target, i) for i, target in enumerate(mnist.target[60000:])]))[:, 1]\n",
    "    mnist.data[:60000] = mnist.data[reorder_train]\n",
    "    mnist.target[:60000] = mnist.target[reorder_train]\n",
    "    mnist.data[60000:] = mnist.data[reorder_test + 60000]\n",
    "    mnist.target[60000:] = mnist.target[reorder_test + 60000]\n"
   ]
  },
  {
   "cell_type": "code",
   "execution_count": 3,
   "metadata": {},
   "outputs": [
    {
     "data": {
      "text/plain": [
       "(array([[0., 0., 0., ..., 0., 0., 0.],\n",
       "        [0., 0., 0., ..., 0., 0., 0.],\n",
       "        [0., 0., 0., ..., 0., 0., 0.],\n",
       "        ...,\n",
       "        [0., 0., 0., ..., 0., 0., 0.],\n",
       "        [0., 0., 0., ..., 0., 0., 0.],\n",
       "        [0., 0., 0., ..., 0., 0., 0.]]),\n",
       " array([0, 0, 0, ..., 9, 9, 9], dtype=int8))"
      ]
     },
     "execution_count": 3,
     "metadata": {},
     "output_type": "execute_result"
    }
   ],
   "source": [
    "# Load MNIST dataset\n",
    "try:\n",
    "    from sklearn.datasets import fetch_openml\n",
    "    mnist = fetch_openml('mnist_784', version=1, cache=True)\n",
    "    mnist.target = mnist.target.astype(np.int8) # fetch_openml() returns targets as strings\n",
    "    sort_by_target(mnist) # fetch_openml() returns an unsorted dataset\n",
    "except ImportError:\n",
    "    from sklearn.datasets import fetch_mldata\n",
    "    mnist = fetch_mldata('MNIST original')\n",
    "mnist[\"data\"], mnist[\"target\"]"
   ]
  },
  {
   "cell_type": "code",
   "execution_count": 4,
   "metadata": {},
   "outputs": [
    {
     "data": {
      "text/plain": [
       "(70000, 784)"
      ]
     },
     "execution_count": 4,
     "metadata": {},
     "output_type": "execute_result"
    }
   ],
   "source": [
    "X, y = mnist[\"data\"], mnist[\"target\"]\n",
    "X.shape"
   ]
  },
  {
   "cell_type": "code",
   "execution_count": 5,
   "metadata": {},
   "outputs": [
    {
     "data": {
      "text/plain": [
       "(70000,)"
      ]
     },
     "execution_count": 5,
     "metadata": {},
     "output_type": "execute_result"
    }
   ],
   "source": [
    "y.shape"
   ]
  },
  {
   "cell_type": "code",
   "execution_count": 6,
   "metadata": {},
   "outputs": [
    {
     "data": {
      "text/plain": [
       "(-0.5, 27.5, 27.5, -0.5)"
      ]
     },
     "execution_count": 6,
     "metadata": {},
     "output_type": "execute_result"
    },
    {
     "data": {
      "image/png": "[encoded data removed]",
      "text/plain": [
       "<Figure size 432x288 with 1 Axes>"
      ]
     },
     "metadata": {
      "needs_background": "light"
     },
     "output_type": "display_data"
    }
   ],
   "source": [
    "# Plot digits and check data\n",
    "%matplotlib inline\n",
    "import matplotlib\n",
    "import matplotlib.pyplot as plt\n",
    "\n",
    "some_digit = X[36000]\n",
    "some_digit_image = some_digit.reshape(28, 28)\n",
    "plt.imshow(some_digit_image, cmap = matplotlib.cm.binary,\n",
    "           interpolation=\"nearest\")\n",
    "plt.axis(\"off\")"
   ]
  },
  {
   "cell_type": "code",
   "execution_count": 7,
   "metadata": {},
   "outputs": [],
   "source": [
    "def plot_digit(data):\n",
    "    image = data.reshape(28, 28)\n",
    "    plt.imshow(image, cmap = matplotlib.cm.binary,\n",
    "               interpolation=\"nearest\")\n",
    "    plt.axis(\"off\")"
   ]
  },
  {
   "cell_type": "code",
   "execution_count": 8,
   "metadata": {},
   "outputs": [],
   "source": [
    "# EXTRA\n",
    "def plot_digits(instances, images_per_row=10, **options):\n",
    "    size = 28\n",
    "    images_per_row = min(len(instances), images_per_row)\n",
    "    images = [instance.reshape(size,size) for instance in instances]\n",
    "    n_rows = (len(instances) - 1) // images_per_row + 1\n",
    "    row_images = []\n",
    "    n_empty = n_rows * images_per_row - len(instances)\n",
    "    images.append(np.zeros((size, size * n_empty)))\n",
    "    for row in range(n_rows):\n",
    "        rimages = images[row * images_per_row : (row + 1) * images_per_row]\n",
    "        row_images.append(np.concatenate(rimages, axis=1))\n",
    "    image = np.concatenate(row_images, axis=0)\n",
    "    plt.imshow(image, cmap = matplotlib.cm.binary, **options)\n",
    "    plt.axis(\"off\")"
   ]
  },
  {
   "cell_type": "code",
   "execution_count": 9,
   "metadata": {},
   "outputs": [
    {
     "data": {
      "image/png": "[encoded data removed]",
      "text/plain": [
       "<Figure size 648x648 with 1 Axes>"
      ]
     },
     "metadata": {
      "needs_background": "light"
     },
     "output_type": "display_data"
    }
   ],
   "source": [
    "plt.figure(figsize=(9,9))\n",
    "example_images = np.r_[X[:12000:600], X[13000:30600:600], X[30600:60000:590]]\n",
    "plot_digits(example_images, images_per_row=10)\n",
    "#save_fig(\"more_digits_plot\")\n",
    "plt.show()"
   ]
  },
  {
   "cell_type": "code",
   "execution_count": 10,
   "metadata": {},
   "outputs": [],
   "source": [
    "# Split dataset into training and testing data\n",
    "X_train, X_test, y_train, y_test = X[:60000], X[60000:], y[:60000], y[60000:]"
   ]
  },
  {
   "cell_type": "code",
   "execution_count": 11,
   "metadata": {},
   "outputs": [
    {
     "data": {
      "text/plain": [
       "(10000,)"
      ]
     },
     "execution_count": 11,
     "metadata": {},
     "output_type": "execute_result"
    }
   ],
   "source": [
    "y_test.shape"
   ]
  },
  {
   "cell_type": "code",
   "execution_count": 12,
   "metadata": {},
   "outputs": [],
   "source": [
    "import numpy as np\n",
    "\n",
    "shuffle_index = np.random.permutation(60000)\n",
    "X_train, y_train = X_train[shuffle_index], y_train[shuffle_index]"
   ]
  },
  {
   "cell_type": "markdown",
   "metadata": {},
   "source": [
    "### Model 1: Random Forest Classifier - all variables"
   ]
  },
  {
   "cell_type": "code",
   "execution_count": 14,
   "metadata": {},
   "outputs": [
    {
     "name": "stdout",
     "output_type": "stream",
     "text": [
      "CPU times: user 4min 35s, sys: 1.73 s, total: 4min 36s\n",
      "Wall time: 4min 38s\n"
     ]
    }
   ],
   "source": [
    "%%time\n",
    "start = time.process_time()\n",
    "\n",
    "from sklearn.ensemble import RandomForestClassifier\n",
    "clf = RandomForestClassifier(max_features = 'sqrt', n_estimators=784)\n",
    "clf.fit(X_train, y_train)\n",
    "duration1 = time.process_time() - start"
   ]
  },
  {
   "cell_type": "code",
   "execution_count": 15,
   "metadata": {},
   "outputs": [
    {
     "name": "stdout",
     "output_type": "stream",
     "text": [
      "CPU times: user 17min 46s, sys: 7.71 s, total: 17min 54s\n",
      "Wall time: 18min 1s\n"
     ]
    }
   ],
   "source": [
    "%%time\n",
    "start = time.process_time()\n",
    "from sklearn.model_selection import cross_val_predict\n",
    "y_scores = cross_val_predict(clf, X_train, y_train)\n",
    "duration2 = time.process_time() - start"
   ]
  },
  {
   "cell_type": "code",
   "execution_count": 16,
   "metadata": {},
   "outputs": [
    {
     "data": {
      "text/plain": [
       "(60000,)"
      ]
     },
     "execution_count": 16,
     "metadata": {},
     "output_type": "execute_result"
    }
   ],
   "source": [
    "y_scores.shape"
   ]
  },
  {
   "cell_type": "code",
   "execution_count": 17,
   "metadata": {},
   "outputs": [
    {
     "name": "stdout",
     "output_type": "stream",
     "text": [
      "f1 score = 0.9692336992203447\n",
      "precision = 0.9692406741857793\n",
      "recall = 0.9692484472953045\n"
     ]
    }
   ],
   "source": [
    "# Access classification performance on training data\n",
    "from sklearn.metrics import accuracy_score, f1_score, precision_score, recall_score,\\\n",
    "                                classification_report, confusion_matrix\n",
    "print('f1 score = {0}'.format(f1_score(y_train, y_scores, average=\"macro\")))\n",
    "print('precision = {0}'.format(precision_score(y_train, y_scores, average=\"macro\")))\n",
    "print('recall = {0}'.format(recall_score(y_train, y_scores, average=\"macro\")))"
   ]
  },
  {
   "cell_type": "code",
   "execution_count": 18,
   "metadata": {},
   "outputs": [
    {
     "name": "stdout",
     "output_type": "stream",
     "text": [
      "CPU times: user 1min 56s, sys: 1.23 s, total: 1min 57s\n",
      "Wall time: 1min 58s\n"
     ]
    },
    {
     "data": {
      "text/plain": [
       "(10000,)"
      ]
     },
     "execution_count": 18,
     "metadata": {},
     "output_type": "execute_result"
    }
   ],
   "source": [
    "%%time\n",
    "start = time.process_time()\n",
    "y_test_scores = cross_val_predict(clf, X_test, y_test)\n",
    "duration3 = time.process_time() - start\n",
    "y_test.shape"
   ]
  },
  {
   "cell_type": "code",
   "execution_count": 19,
   "metadata": {},
   "outputs": [
    {
     "name": "stdout",
     "output_type": "stream",
     "text": [
      "f1 score = 0.9500733806091048\n",
      "precision = 0.9504076205374281\n",
      "recall = 0.949898236229387\n"
     ]
    }
   ],
   "source": [
    "# Access classification performance on testing data\n",
    "print('f1 score = {0}'.format(f1_score(y_test, y_test_scores, average=\"macro\")))\n",
    "print('precision = {0}'.format(precision_score(y_test, y_test_scores, average=\"macro\")))\n",
    "print('recall = {0}'.format(recall_score(y_test, y_test_scores, average=\"macro\")))"
   ]
  },
  {
   "cell_type": "code",
   "execution_count": 20,
   "metadata": {},
   "outputs": [
    {
     "name": "stdout",
     "output_type": "stream",
     "text": [
      "[[ 966    1    0    0    0    4    6    1    2    0]\n",
      " [   0 1121    3    3    0    1    4    1    2    0]\n",
      " [   8    0  971    8   10    2    7   17    7    2]\n",
      " [   1    0   20  942    1   16    0   13   14    3]\n",
      " [   2    2    2    0  935    0    6    0    3   32]\n",
      " [   6    5    2   28    4  820   10    3    8    6]\n",
      " [   8    4    3    0    4    3  932    0    4    0]\n",
      " [   2   10   23    0    7    0    0  964    4   18]\n",
      " [   4    7    5   14    5    5    4    5  914   11]\n",
      " [   7    7    2   11   17    3    1    6   15  940]]\n"
     ]
    },
    {
     "data": {
      "image/png": "[encoded data removed]",
      "text/plain": [
       "<Figure size 432x288 with 2 Axes>"
      ]
     },
     "metadata": {
      "needs_background": "light"
     },
     "output_type": "display_data"
    }
   ],
   "source": [
    "from sklearn.metrics import confusion_matrix\n",
    "conf_mx1 = confusion_matrix(y_test, y_test_scores)\n",
    "print(conf_mx1)\n",
    "fig = plt.figure()\n",
    "ax = fig.add_subplot(111)\n",
    "cax = ax.matshow(conf_mx1)\n",
    "plt.title('Confusion matrix of the classifier')\n",
    "fig.colorbar(cax)\n",
    "plt.xlabel('Predicted')\n",
    "plt.ylabel('True')\n",
    "plt.show()"
   ]
  },
  {
   "cell_type": "code",
   "execution_count": 21,
   "metadata": {},
   "outputs": [
    {
     "data": {
      "image/png": "[encoded data removed]",
      "text/plain": [
       "<Figure size 432x288 with 2 Axes>"
      ]
     },
     "metadata": {
      "needs_background": "light"
     },
     "output_type": "display_data"
    }
   ],
   "source": [
    "row_sums = conf_mx1.sum(axis=1, keepdims=True)\n",
    "norm_conf_mx = conf_mx1 / row_sums\n",
    "np.fill_diagonal(norm_conf_mx, 0)\n",
    "fig = plt.figure()\n",
    "ax = fig.add_subplot(111)\n",
    "cax = ax.matshow(norm_conf_mx)\n",
    "plt.title('Confusion matrix errors')\n",
    "fig.colorbar(cax)\n",
    "plt.xlabel('Predicted')\n",
    "plt.ylabel('True')\n",
    "plt.show()"
   ]
  },
  {
   "cell_type": "code",
   "execution_count": 22,
   "metadata": {},
   "outputs": [],
   "source": [
    "Model1 = duration1+duration2+duration3"
   ]
  },
  {
   "cell_type": "markdown",
   "metadata": {},
   "source": [
    "## Model 2: Principal Components Analysis (PCA)\n"
   ]
  },
  {
   "cell_type": "code",
   "execution_count": 24,
   "metadata": {},
   "outputs": [
    {
     "name": "stdout",
     "output_type": "stream",
     "text": [
      "CPU times: user 47.7 s, sys: 1.07 s, total: 48.7 s\n",
      "Wall time: 8.31 s\n"
     ]
    }
   ],
   "source": [
    "%%time\n",
    "from sklearn.decomposition import PCA\n",
    "start = time.process_time()\n",
    "pca = PCA()\n",
    "pca.fit(mnist[\"data\"])\n",
    "cumsum = np.cumsum(pca.explained_variance_ratio_)\n",
    "d = np.argmax(cumsum >= 0.95) + 1\n",
    "duration4 = time.process_time() - start"
   ]
  },
  {
   "cell_type": "code",
   "execution_count": 25,
   "metadata": {},
   "outputs": [
    {
     "data": {
      "text/plain": [
       "154"
      ]
     },
     "execution_count": 25,
     "metadata": {},
     "output_type": "execute_result"
    }
   ],
   "source": [
    "#principle components from PCA\n",
    "d"
   ]
  },
  {
   "cell_type": "code",
   "execution_count": 26,
   "metadata": {},
   "outputs": [
    {
     "data": {
      "text/plain": [
       "Text(164, 0.900797142697461, '154')"
      ]
     },
     "execution_count": 26,
     "metadata": {},
     "output_type": "execute_result"
    },
    {
     "data": {
      "image/png": "[encoded data removed]",
      "text/plain": [
       "<Figure size 432x288 with 1 Axes>"
      ]
     },
     "metadata": {
      "needs_background": "light"
     },
     "output_type": "display_data"
    }
   ],
   "source": [
    "# Plot the PCA Cumulative Variance Sum Curve\n",
    "x_len = len(pca.explained_variance_ratio_)\n",
    "x = np.linspace(1, x_len, x_len, dtype=int)\n",
    "plt.plot(x, cumsum)\n",
    "plt.hlines(y=cumsum[d], xmin=0, xmax=d, linestyles=\"dashed\")\n",
    "plt.vlines(x=d, ymin=0, ymax=cumsum[d], linestyles=\"dashed\")\n",
    "plt.title(\"Dimensions vs Explained Variance\")\n",
    "plt.xlabel(\"Dimensions\")\n",
    "plt.ylabel(\"Explained Variance\")\n",
    "plt.annotate(s=\"{}\".format(d), xy=(d+10, cumsum[d]-0.05))"
   ]
  },
  {
   "cell_type": "markdown",
   "metadata": {},
   "source": [
    "### Model 3: Random Forest - reduced data set"
   ]
  },
  {
   "cell_type": "code",
   "execution_count": 27,
   "metadata": {},
   "outputs": [
    {
     "name": "stdout",
     "output_type": "stream",
     "text": [
      "CPU times: user 23.7 s, sys: 2.64 s, total: 26.3 s\n",
      "Wall time: 4.68 s\n"
     ]
    }
   ],
   "source": [
    "%%time\n",
    "start = time.process_time()\n",
    "pca = PCA(n_components = 154)\n",
    "X_reduced = pca.fit_transform(X_train)\n",
    "X_test_reduced = pca.fit_transform(X_test)\n",
    "duration5 = time.process_time() - start"
   ]
  },
  {
   "cell_type": "code",
   "execution_count": 28,
   "metadata": {},
   "outputs": [
    {
     "data": {
      "text/plain": [
       "(60000, 154)"
      ]
     },
     "execution_count": 28,
     "metadata": {},
     "output_type": "execute_result"
    }
   ],
   "source": [
    "X_reduced.shape"
   ]
  },
  {
   "cell_type": "code",
   "execution_count": 29,
   "metadata": {},
   "outputs": [
    {
     "name": "stdout",
     "output_type": "stream",
     "text": [
      "CPU times: user 1min 57s, sys: 522 ms, total: 1min 58s\n",
      "Wall time: 1min 58s\n"
     ]
    }
   ],
   "source": [
    "%%time\n",
    "start = time.process_time()\n",
    "clf_2 = RandomForestClassifier(max_features = 'sqrt',n_estimators=154)\n",
    "clf_2.fit(X_reduced, y_train)\n",
    "duration6 = time.process_time() - start"
   ]
  },
  {
   "cell_type": "code",
   "execution_count": 30,
   "metadata": {},
   "outputs": [
    {
     "name": "stdout",
     "output_type": "stream",
     "text": [
      "CPU times: user 7min 27s, sys: 2.18 s, total: 7min 30s\n",
      "Wall time: 7min 32s\n"
     ]
    }
   ],
   "source": [
    "%%time\n",
    "start = time.process_time()\n",
    "y_scores_2 = cross_val_predict(clf_2, X_reduced, y_train)\n",
    "duration7 = time.process_time() - start"
   ]
  },
  {
   "cell_type": "code",
   "execution_count": 31,
   "metadata": {},
   "outputs": [],
   "source": [
    "Model2= duration4 + duration5 + duration6 + duration7"
   ]
  },
  {
   "cell_type": "code",
   "execution_count": 32,
   "metadata": {},
   "outputs": [
    {
     "data": {
      "text/plain": [
       "(60000,)"
      ]
     },
     "execution_count": 32,
     "metadata": {},
     "output_type": "execute_result"
    }
   ],
   "source": [
    "\n",
    "y_scores_2.shape"
   ]
  },
  {
   "cell_type": "code",
   "execution_count": 33,
   "metadata": {},
   "outputs": [
    {
     "name": "stdout",
     "output_type": "stream",
     "text": [
      "f1 score = 0.9458812266245952\n",
      "precision = 0.9459551426435562\n",
      "recall = 0.9458803798796268\n"
     ]
    }
   ],
   "source": [
    "# Access classification performance on training data\n",
    "print('f1 score = {0}'.format(f1_score(y_train, y_scores_2, average=\"macro\")))\n",
    "print('precision = {0}'.format(precision_score(y_train, y_scores_2, average=\"macro\")))\n",
    "print('recall = {0}'.format(recall_score(y_train, y_scores_2, average=\"macro\")))"
   ]
  },
  {
   "cell_type": "code",
   "execution_count": 34,
   "metadata": {},
   "outputs": [
    {
     "data": {
      "text/plain": [
       "(10000,)"
      ]
     },
     "execution_count": 34,
     "metadata": {},
     "output_type": "execute_result"
    }
   ],
   "source": [
    "y_test_scores_2 = cross_val_predict(clf_2, X_test_reduced, y_test)\n",
    "y_test.shape"
   ]
  },
  {
   "cell_type": "code",
   "execution_count": 35,
   "metadata": {},
   "outputs": [
    {
     "name": "stdout",
     "output_type": "stream",
     "text": [
      "f1 score = 0.9152015419045412\n",
      "precision score = 0.9156888797123315\n",
      "recall = 0.91518907979166\n"
     ]
    }
   ],
   "source": [
    "# Access classification performance on testing data\n",
    "print('f1 score = {0}'.format(f1_score(y_test, y_test_scores_2, average=\"macro\")))\n",
    "print('precision score = {0}'.format(precision_score(y_test, y_test_scores_2, average=\"macro\")))\n",
    "print('recall = {0}'.format(recall_score(y_test, y_test_scores_2, average=\"macro\")))"
   ]
  },
  {
   "cell_type": "code",
   "execution_count": 36,
   "metadata": {},
   "outputs": [
    {
     "data": {
      "text/plain": [
       "array([[ 954,    0,    5,    2,    0,    6,    8,    1,    4,    0],\n",
       "       [   0, 1109,    7,    5,    0,    1,    3,    0,    9,    1],\n",
       "       [  13,    1,  938,   13,   17,    3,    6,   13,   25,    3],\n",
       "       [   4,    2,   18,  917,    3,   23,    2,    7,   27,    7],\n",
       "       [   1,    5,    8,    1,  898,    3,   15,    9,    4,   38],\n",
       "       [  14,    2,    4,   56,   14,  758,   13,    2,   21,    8],\n",
       "       [  12,    5,    1,    2,    7,    9,  920,    0,    2,    0],\n",
       "       [   5,   19,   21,    3,   11,    1,    2,  945,    2,   19],\n",
       "       [   9,    1,   20,   31,   12,   27,    4,   14,  844,   12],\n",
       "       [   8,    6,   10,   15,   45,    6,    2,   30,    5,  882]])"
      ]
     },
     "execution_count": 36,
     "metadata": {},
     "output_type": "execute_result"
    }
   ],
   "source": [
    "conf_mx2 = confusion_matrix(y_test, y_test_scores_2)\n",
    "conf_mx2"
   ]
  },
  {
   "cell_type": "code",
   "execution_count": 37,
   "metadata": {},
   "outputs": [
    {
     "data": {
      "image/png": "[encoded data removed]",
      "text/plain": [
       "<Figure size 432x288 with 2 Axes>"
      ]
     },
     "metadata": {
      "needs_background": "light"
     },
     "output_type": "display_data"
    }
   ],
   "source": [
    "fig = plt.figure()\n",
    "ax = fig.add_subplot(111)\n",
    "cax = ax.matshow(conf_mx2)\n",
    "plt.title('Confusion matrix of the classifier')\n",
    "fig.colorbar(cax)\n",
    "plt.xlabel('Predicted')\n",
    "plt.ylabel('True')\n",
    "plt.show()"
   ]
  },
  {
   "cell_type": "code",
   "execution_count": 38,
   "metadata": {},
   "outputs": [
    {
     "data": {
      "image/png": "[encoded data removed]",
      "text/plain": [
       "<Figure size 432x288 with 2 Axes>"
      ]
     },
     "metadata": {
      "needs_background": "light"
     },
     "output_type": "display_data"
    }
   ],
   "source": [
    "row_sums = conf_mx2.sum(axis=1, keepdims=True)\n",
    "norm_conf_mx2 = conf_mx2 / row_sums\n",
    "np.fill_diagonal(norm_conf_mx2, 0)\n",
    "fig = plt.figure()\n",
    "ax = fig.add_subplot(111)\n",
    "cax = ax.matshow(norm_conf_mx2)\n",
    "plt.title('Confusion matrix errors')\n",
    "fig.colorbar(cax)\n",
    "plt.xlabel('Predicted')\n",
    "plt.ylabel('True')\n",
    "plt.show()"
   ]
  },
  {
   "cell_type": "markdown",
   "metadata": {},
   "source": [
    "#### The PCA Model has a design flaw because the experiment is applying principal component analysis (PCA) to the entire set of data. The dataset should be split into train and test sets prior to running PCA. To correct the flaw, the train set will be split into a train and validation set. The PCA will be run on these sets prior to making predictions on the test set\n",
    "\n",
    "### Model 4: re-run dimension reduction on training data & re-run model"
   ]
  },
  {
   "cell_type": "code",
   "execution_count": 40,
   "metadata": {},
   "outputs": [],
   "source": [
    "pca_2 = PCA()\n",
    "pca_2.fit(X_train)\n",
    "cumsum = np.cumsum(pca.explained_variance_ratio_)\n",
    "d2 = np.argmax(cumsum >= 0.95) + 1"
   ]
  },
  {
   "cell_type": "code",
   "execution_count": 41,
   "metadata": {},
   "outputs": [
    {
     "data": {
      "text/plain": [
       "149"
      ]
     },
     "execution_count": 41,
     "metadata": {},
     "output_type": "execute_result"
    }
   ],
   "source": [
    "d2"
   ]
  },
  {
   "cell_type": "code",
   "execution_count": 42,
   "metadata": {},
   "outputs": [
    {
     "data": {
      "text/plain": [
       "Text(159, 0.9004918065491405, '149')"
      ]
     },
     "execution_count": 42,
     "metadata": {},
     "output_type": "execute_result"
    },
    {
     "data": {
      "image/png": "[encoded data removed]",
      "text/plain": [
       "<Figure size 432x288 with 1 Axes>"
      ]
     },
     "metadata": {
      "needs_background": "light"
     },
     "output_type": "display_data"
    }
   ],
   "source": [
    "# Plot the PCA Cumulative Variance Sum Curve\n",
    "x_len = len(pca.explained_variance_ratio_)\n",
    "x = np.linspace(1, x_len, x_len, dtype=int)\n",
    "plt.plot(x, cumsum)\n",
    "plt.hlines(y=cumsum[d2], xmin=0, xmax=d2, linestyles=\"dashed\")\n",
    "plt.vlines(x=d2, ymin=0, ymax=cumsum[d2], linestyles=\"dashed\")\n",
    "plt.title(\"Dimensions vs Explained Variance\")\n",
    "plt.xlabel(\"Dimensions\")\n",
    "plt.ylabel(\"Explained Variance\")\n",
    "plt.annotate(s=\"{}\".format(d2), xy=(d2+10, cumsum[d2]-0.05))"
   ]
  },
  {
   "cell_type": "code",
   "execution_count": 43,
   "metadata": {},
   "outputs": [
    {
     "name": "stdout",
     "output_type": "stream",
     "text": [
      "CPU times: user 23.8 s, sys: 2.63 s, total: 26.5 s\n",
      "Wall time: 4.61 s\n"
     ]
    }
   ],
   "source": [
    "%%time\n",
    "start = time.process_time()\n",
    "pca_3 = PCA(n_components = 149)\n",
    "X_train_reduced_3 = pca_3.fit_transform(X_train)\n",
    "X_test_reduced_3 = pca_3.fit_transform(X_test)\n",
    "duration8 = time.process_time() - start"
   ]
  },
  {
   "cell_type": "code",
   "execution_count": 44,
   "metadata": {},
   "outputs": [
    {
     "name": "stdout",
     "output_type": "stream",
     "text": [
      "CPU times: user 1min 53s, sys: 467 ms, total: 1min 53s\n",
      "Wall time: 1min 54s\n"
     ]
    }
   ],
   "source": [
    "%%time\n",
    "start = time.process_time()\n",
    "clf_3 = RandomForestClassifier(max_features = 'sqrt', n_estimators=149)\n",
    "clf_3.fit(X_train_reduced_3, y_train)\n",
    "duration9 = time.process_time() - start"
   ]
  },
  {
   "cell_type": "code",
   "execution_count": 45,
   "metadata": {},
   "outputs": [
    {
     "name": "stdout",
     "output_type": "stream",
     "text": [
      "CPU times: user 8min 8s, sys: 2.8 s, total: 8min 11s\n",
      "Wall time: 8min 14s\n"
     ]
    }
   ],
   "source": [
    "%%time\n",
    "from sklearn.model_selection import cross_val_predict\n",
    "start = time.process_time()\n",
    "y_train_scores_3 = cross_val_predict(clf_3, X_train_reduced_3, y_train)\n",
    "y_test_scores_3 = cross_val_predict(clf_3, X_test_reduced_3, y_test)\n",
    "duration10 = time.process_time() - start"
   ]
  },
  {
   "cell_type": "code",
   "execution_count": 46,
   "metadata": {},
   "outputs": [
    {
     "name": "stdout",
     "output_type": "stream",
     "text": [
      "0.9467419090088496\n",
      "0.9467963694867908\n",
      "0.9467550206738933\n"
     ]
    }
   ],
   "source": [
    "print(f1_score(y_train, y_train_scores_3, average=\"macro\"))\n",
    "print(precision_score(y_train, y_train_scores_3, average=\"macro\"))\n",
    "print(recall_score(y_train, y_train_scores_3, average=\"macro\"))"
   ]
  },
  {
   "cell_type": "code",
   "execution_count": 47,
   "metadata": {},
   "outputs": [
    {
     "name": "stdout",
     "output_type": "stream",
     "text": [
      "0.9162446237663235\n",
      "0.9167428763388591\n",
      "0.9161753896804792\n"
     ]
    }
   ],
   "source": [
    "print(f1_score(y_test, y_test_scores_3, average=\"macro\"))\n",
    "print(precision_score(y_test, y_test_scores_3, average=\"macro\"))\n",
    "print(recall_score(y_test, y_test_scores_3, average=\"macro\"))"
   ]
  },
  {
   "cell_type": "code",
   "execution_count": 48,
   "metadata": {},
   "outputs": [
    {
     "data": {
      "text/plain": [
       "array([[ 952,    0,    4,    3,    0,    3,   11,    1,    6,    0],\n",
       "       [   0, 1111,    4,    4,    0,    1,    3,    2,   10,    0],\n",
       "       [  18,    1,  937,   14,   16,    3,    7,   13,   23,    0],\n",
       "       [   2,    2,   23,  918,    2,   19,    3,    9,   27,    5],\n",
       "       [   1,    8,    6,    1,  904,    3,   18,    3,    4,   34],\n",
       "       [   8,    2,    8,   58,   10,  768,   14,    4,   13,    7],\n",
       "       [  13,    5,    6,    1,    5,    9,  913,    0,    6,    0],\n",
       "       [   2,   16,   20,    4,    8,    3,    0,  945,    3,   27],\n",
       "       [   9,    1,   20,   31,   13,   26,    2,    9,  847,   16],\n",
       "       [   8,    6,    9,   16,   43,    6,    2,   32,    8,  879]])"
      ]
     },
     "execution_count": 48,
     "metadata": {},
     "output_type": "execute_result"
    }
   ],
   "source": [
    "conf_mx3 = confusion_matrix(y_test, y_test_scores_3)\n",
    "conf_mx3"
   ]
  },
  {
   "cell_type": "code",
   "execution_count": 49,
   "metadata": {},
   "outputs": [
    {
     "data": {
      "image/png": "[encoded data removed]",
      "text/plain": [
       "<Figure size 432x288 with 2 Axes>"
      ]
     },
     "metadata": {
      "needs_background": "light"
     },
     "output_type": "display_data"
    }
   ],
   "source": [
    "fig = plt.figure()\n",
    "ax = fig.add_subplot(111)\n",
    "cax = ax.matshow(conf_mx3)\n",
    "plt.title('Confusion matrix of the classifier')\n",
    "fig.colorbar(cax)\n",
    "plt.xlabel('Predicted')\n",
    "plt.ylabel('True')\n",
    "plt.show()"
   ]
  },
  {
   "cell_type": "code",
   "execution_count": 50,
   "metadata": {},
   "outputs": [
    {
     "data": {
      "image/png": "[encoded data removed]",
      "text/plain": [
       "<Figure size 432x288 with 2 Axes>"
      ]
     },
     "metadata": {
      "needs_background": "light"
     },
     "output_type": "display_data"
    }
   ],
   "source": [
    "row_sums = conf_mx3.sum(axis=1, keepdims=True)\n",
    "norm_conf_mx3 = conf_mx3 / row_sums\n",
    "np.fill_diagonal(norm_conf_mx3, 0)\n",
    "fig = plt.figure()\n",
    "ax = fig.add_subplot(111)\n",
    "cax = ax.matshow(norm_conf_mx3)\n",
    "plt.title('Confusion matrix errors')\n",
    "fig.colorbar(cax)\n",
    "plt.xlabel('Predicted')\n",
    "plt.ylabel('True')\n",
    "plt.show()"
   ]
  },
  {
   "cell_type": "code",
   "execution_count": 51,
   "metadata": {},
   "outputs": [],
   "source": [
    "Model3=duration8+duration9+duration10"
   ]
  },
  {
   "cell_type": "code",
   "execution_count": 52,
   "metadata": {},
   "outputs": [],
   "source": [
    "def convert(seconds): \n",
    "    seconds = seconds % (24 * 3600) \n",
    "    seconds %= 3600\n",
    "    minutes = seconds // 60\n",
    "    seconds %= 60\n",
    "      \n",
    "    return \"%02d:%02d\" % (minutes, seconds)\n"
   ]
  },
  {
   "cell_type": "code",
   "execution_count": 53,
   "metadata": {},
   "outputs": [
    {
     "name": "stdout",
     "output_type": "stream",
     "text": [
      "24:28\n",
      "10:43\n",
      "10:31\n"
     ]
    }
   ],
   "source": [
    "# Driver program \n",
    "m1 = Model1\n",
    "m2 = Model2\n",
    "m3 = Model3\n",
    "print(convert(m1)) \n",
    "print(convert(m2)) \n",
    "print(convert(m3)) "
   ]
  },
  {
   "cell_type": "markdown",
   "metadata": {},
   "source": [
    "### Analysis - Model comparison & timing"
   ]
  },
  {
   "cell_type": "code",
   "execution_count": 55,
   "metadata": {},
   "outputs": [
    {
     "name": "stdout",
     "output_type": "stream",
     "text": [
      "Model 1 Original 784-Varibiable Model, Test: = 0.9500733806091048\n",
      "Model 1 Time:\n",
      "24:28\n",
      "Model 3 95% PCA Model, Test: 0.9152015419045412\n",
      "Model 3 Time:\n",
      "10:43\n",
      "Model 4 Random Forest with reduced variables and PCA, Test: 0.9162446237663235\n",
      "Model 4 Time:\n",
      "10:31\n"
     ]
    }
   ],
   "source": [
    "print('Model 1 Original 784-Varibiable Model, Test: = {0}'.format(f1_score(y_test, y_test_scores, average=\"macro\"))),\n",
    "print('Model 1 Time:')\n",
    "print(convert(m1)) \n",
    "print('Model 3 95% PCA Model, Test: {0}'.format(f1_score(y_test, y_test_scores_2, average=\"macro\")))\n",
    "print('Model 3 Time:')\n",
    "print(convert(m2)) \n",
    "print('Model 4 Random Forest with reduced variables and PCA, Test: {0}'.format(f1_score(y_test, y_test_scores_3, average=\"macro\")))\n",
    "print('Model 4 Time:')\n",
    "print(convert(m3))\n"
   ]
  },
  {
   "cell_type": "markdown",
   "metadata": {},
   "source": [
    "# Conclusion\n",
    "\n",
    "**Recommendation to reduce data dimensions using PCA on the training data set (model 3).**  Resulting Random Forest model uses 149 estimators.  The F1 and Precision scores of the recommended model are .94 accuracy on the training data, and .92 accuracy on the test data.  The time it takes to run the model is ~10 minutes, which is a 60% reduction in timing for a slightly improved test result (model 1)."
   ]
  }
 ],
 "metadata": {
  "kernelspec": {
   "display_name": "Python 3",
   "language": "python",
   "name": "python3"
  },
  "language_info": {
   "codemirror_mode": {
    "name": "ipython",
    "version": 3
   },
   "file_extension": ".py",
   "mimetype": "text/x-python",
   "name": "python",
   "nbconvert_exporter": "python",
   "pygments_lexer": "ipython3",
   "version": "3.7.4"
  }
 },
 "nbformat": 4,
 "nbformat_minor": 4
}
