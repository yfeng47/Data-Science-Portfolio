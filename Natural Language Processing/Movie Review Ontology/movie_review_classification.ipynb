{
  "nbformat": 4,
  "nbformat_minor": 0,
  "metadata": {
    "colab": {
      "name": "movie_review_classification.ipynb",
      "provenance": [],
      "collapsed_sections": []
    },
    "kernelspec": {
      "display_name": "TensorFlow-GPU-2.1.0",
      "language": "python",
      "name": "tf-gpu"
    },
    "language_info": {
      "codemirror_mode": {
        "name": "ipython",
        "version": 3
      },
      "file_extension": ".py",
      "mimetype": "text/x-python",
      "name": "python",
      "nbconvert_exporter": "python",
      "pygments_lexer": "ipython3",
      "version": "3.7.9"
    }
  },
  "cells": [
    {
      "cell_type": "markdown",
      "metadata": {
        "id": "pLitO-9-dKq6"
      },
      "source": [
        "<img src=\"https://github.com/djp840/MSDS_458_Public/blob/master/images/NorthwesternHeader.png?raw=1\">"
      ]
    },
    {
      "cell_type": "markdown",
      "metadata": {
        "id": "e-GAnvxVdKrD"
      },
      "source": [
        "Yining Feng\n",
        "\n",
        "MSDS 453 Natural Language Processing <br>\n",
        "Movie Review Classification <br>\n",
        "Due: 3/17/2021 <br>"
      ]
    },
    {
      "cell_type": "code",
      "metadata": {
        "colab": {
          "base_uri": "https://localhost:8080/"
        },
        "id": "eOE-6-6gG-VM",
        "outputId": "0d1c9b15-9c85-4f31-a275-1f84e7aebc9f"
      },
      "source": [
        "from google.colab import drive\n",
        "drive.mount('/content/drive')"
      ],
      "execution_count": null,
      "outputs": [
        {
          "output_type": "stream",
          "text": [
            "Mounted at /content/drive\n"
          ],
          "name": "stdout"
        }
      ]
    },
    {
      "cell_type": "markdown",
      "metadata": {
        "id": "7EnCGX_gSqAt"
      },
      "source": [
        ""
      ]
    },
    {
      "cell_type": "markdown",
      "metadata": {
        "id": "NmyePb6uIcaX"
      },
      "source": [
        "## Instructions to run this notebook:\n",
        "Copy the contents of the shared drive to your google drive and ensure that the path of the MSDS453 folder matches to the path below. Once you do that you should be able to run the notebook.\n",
        "\n",
        "The notebook refrences the models as well as the week5 sentiment polarity dataset"
      ]
    },
    {
      "cell_type": "code",
      "metadata": {
        "colab": {
          "base_uri": "https://localhost:8080/"
        },
        "id": "XNu8m6EFSveq",
        "outputId": "d564e1b1-d4ba-4698-9e3b-c1dbcfae178f"
      },
      "source": [
        "! pip install spacy==2.2.2\n",
        "! pip install stanfordnlp==0.2.0\n",
        "! pip install networkx==2.3"
      ],
      "execution_count": null,
      "outputs": [
        {
          "output_type": "stream",
          "text": [
            "Collecting spacy==2.2.2\n",
            "\u001b[?25l  Downloading https://files.pythonhosted.org/packages/b9/01/fcb8ae3e836fea5c11fdb4c074d27b52bdf74b47bd9bb28a811b7ab37d49/spacy-2.2.2-cp37-cp37m-manylinux1_x86_64.whl (10.3MB)\n",
            "\u001b[K     |████████████████████████████████| 10.3MB 8.3MB/s \n",
            "\u001b[?25hRequirement already satisfied: setuptools in /usr/local/lib/python3.7/dist-packages (from spacy==2.2.2) (54.0.0)\n",
            "Requirement already satisfied: requests<3.0.0,>=2.13.0 in /usr/local/lib/python3.7/dist-packages (from spacy==2.2.2) (2.23.0)\n",
            "Requirement already satisfied: wasabi<1.1.0,>=0.3.0 in /usr/local/lib/python3.7/dist-packages (from spacy==2.2.2) (0.8.2)\n",
            "Requirement already satisfied: cymem<2.1.0,>=2.0.2 in /usr/local/lib/python3.7/dist-packages (from spacy==2.2.2) (2.0.5)\n",
            "Requirement already satisfied: murmurhash<1.1.0,>=0.28.0 in /usr/local/lib/python3.7/dist-packages (from spacy==2.2.2) (1.0.5)\n",
            "Requirement already satisfied: blis<0.5.0,>=0.4.0 in /usr/local/lib/python3.7/dist-packages (from spacy==2.2.2) (0.4.1)\n",
            "Requirement already satisfied: importlib-metadata>=0.20; python_version < \"3.8\" in /usr/local/lib/python3.7/dist-packages (from spacy==2.2.2) (3.7.0)\n",
            "Collecting thinc<7.4.0,>=7.3.0\n",
            "\u001b[?25l  Downloading https://files.pythonhosted.org/packages/32/53/d11d2faa6921e55c37ad2cd56b0866a9e6df647fb547cfb69a50059d759c/thinc-7.3.1-cp37-cp37m-manylinux1_x86_64.whl (2.2MB)\n",
            "\u001b[K     |████████████████████████████████| 2.2MB 31.7MB/s \n",
            "\u001b[?25hRequirement already satisfied: plac<1.2.0,>=0.9.6 in /usr/local/lib/python3.7/dist-packages (from spacy==2.2.2) (1.1.3)\n",
            "Requirement already satisfied: srsly<1.1.0,>=0.1.0 in /usr/local/lib/python3.7/dist-packages (from spacy==2.2.2) (1.0.5)\n",
            "Requirement already satisfied: preshed<3.1.0,>=3.0.2 in /usr/local/lib/python3.7/dist-packages (from spacy==2.2.2) (3.0.5)\n",
            "Requirement already satisfied: numpy>=1.15.0 in /usr/local/lib/python3.7/dist-packages (from spacy==2.2.2) (1.19.5)\n",
            "Requirement already satisfied: certifi>=2017.4.17 in /usr/local/lib/python3.7/dist-packages (from requests<3.0.0,>=2.13.0->spacy==2.2.2) (2020.12.5)\n",
            "Requirement already satisfied: idna<3,>=2.5 in /usr/local/lib/python3.7/dist-packages (from requests<3.0.0,>=2.13.0->spacy==2.2.2) (2.10)\n",
            "Requirement already satisfied: chardet<4,>=3.0.2 in /usr/local/lib/python3.7/dist-packages (from requests<3.0.0,>=2.13.0->spacy==2.2.2) (3.0.4)\n",
            "Requirement already satisfied: urllib3!=1.25.0,!=1.25.1,<1.26,>=1.21.1 in /usr/local/lib/python3.7/dist-packages (from requests<3.0.0,>=2.13.0->spacy==2.2.2) (1.24.3)\n",
            "Requirement already satisfied: zipp>=0.5 in /usr/local/lib/python3.7/dist-packages (from importlib-metadata>=0.20; python_version < \"3.8\"->spacy==2.2.2) (3.4.1)\n",
            "Requirement already satisfied: typing-extensions>=3.6.4; python_version < \"3.8\" in /usr/local/lib/python3.7/dist-packages (from importlib-metadata>=0.20; python_version < \"3.8\"->spacy==2.2.2) (3.7.4.3)\n",
            "Requirement already satisfied: tqdm<5.0.0,>=4.10.0 in /usr/local/lib/python3.7/dist-packages (from thinc<7.4.0,>=7.3.0->spacy==2.2.2) (4.41.1)\n",
            "Installing collected packages: thinc, spacy\n",
            "  Found existing installation: thinc 7.4.0\n",
            "    Uninstalling thinc-7.4.0:\n",
            "      Successfully uninstalled thinc-7.4.0\n",
            "  Found existing installation: spacy 2.2.4\n",
            "    Uninstalling spacy-2.2.4:\n",
            "      Successfully uninstalled spacy-2.2.4\n",
            "Successfully installed spacy-2.2.2 thinc-7.3.1\n",
            "Collecting stanfordnlp==0.2.0\n",
            "\u001b[?25l  Downloading https://files.pythonhosted.org/packages/41/bf/5d2898febb6e993fcccd90484cba3c46353658511a41430012e901824e94/stanfordnlp-0.2.0-py3-none-any.whl (158kB)\n",
            "\u001b[K     |████████████████████████████████| 163kB 9.3MB/s \n",
            "\u001b[?25hRequirement already satisfied: protobuf in /usr/local/lib/python3.7/dist-packages (from stanfordnlp==0.2.0) (3.12.4)\n",
            "Requirement already satisfied: numpy in /usr/local/lib/python3.7/dist-packages (from stanfordnlp==0.2.0) (1.19.5)\n",
            "Requirement already satisfied: requests in /usr/local/lib/python3.7/dist-packages (from stanfordnlp==0.2.0) (2.23.0)\n",
            "Requirement already satisfied: tqdm in /usr/local/lib/python3.7/dist-packages (from stanfordnlp==0.2.0) (4.41.1)\n",
            "Requirement already satisfied: torch>=1.0.0 in /usr/local/lib/python3.7/dist-packages (from stanfordnlp==0.2.0) (1.8.0+cu101)\n",
            "Requirement already satisfied: setuptools in /usr/local/lib/python3.7/dist-packages (from protobuf->stanfordnlp==0.2.0) (54.0.0)\n",
            "Requirement already satisfied: six>=1.9 in /usr/local/lib/python3.7/dist-packages (from protobuf->stanfordnlp==0.2.0) (1.15.0)\n",
            "Requirement already satisfied: urllib3!=1.25.0,!=1.25.1,<1.26,>=1.21.1 in /usr/local/lib/python3.7/dist-packages (from requests->stanfordnlp==0.2.0) (1.24.3)\n",
            "Requirement already satisfied: chardet<4,>=3.0.2 in /usr/local/lib/python3.7/dist-packages (from requests->stanfordnlp==0.2.0) (3.0.4)\n",
            "Requirement already satisfied: certifi>=2017.4.17 in /usr/local/lib/python3.7/dist-packages (from requests->stanfordnlp==0.2.0) (2020.12.5)\n",
            "Requirement already satisfied: idna<3,>=2.5 in /usr/local/lib/python3.7/dist-packages (from requests->stanfordnlp==0.2.0) (2.10)\n",
            "Requirement already satisfied: typing-extensions in /usr/local/lib/python3.7/dist-packages (from torch>=1.0.0->stanfordnlp==0.2.0) (3.7.4.3)\n",
            "Installing collected packages: stanfordnlp\n",
            "Successfully installed stanfordnlp-0.2.0\n",
            "Collecting networkx==2.3\n",
            "\u001b[?25l  Downloading https://files.pythonhosted.org/packages/85/08/f20aef11d4c343b557e5de6b9548761811eb16e438cee3d32b1c66c8566b/networkx-2.3.zip (1.7MB)\n",
            "\u001b[K     |████████████████████████████████| 1.8MB 7.5MB/s \n",
            "\u001b[?25hRequirement already satisfied: decorator>=4.3.0 in /usr/local/lib/python3.7/dist-packages (from networkx==2.3) (4.4.2)\n",
            "Building wheels for collected packages: networkx\n",
            "  Building wheel for networkx (setup.py) ... \u001b[?25l\u001b[?25hdone\n",
            "  Created wheel for networkx: filename=networkx-2.3-py2.py3-none-any.whl size=1556408 sha256=3867a3e656c11af21799752b5652570d3e98269d21a39e338c2c95cf025dc1c9\n",
            "  Stored in directory: /root/.cache/pip/wheels/de/63/64/3699be2a9d0ccdb37c7f16329acf3863fd76eda58c39c737af\n",
            "Successfully built networkx\n",
            "\u001b[31mERROR: albumentations 0.1.12 has requirement imgaug<0.2.7,>=0.2.5, but you'll have imgaug 0.2.9 which is incompatible.\u001b[0m\n",
            "Installing collected packages: networkx\n",
            "  Found existing installation: networkx 2.5\n",
            "    Uninstalling networkx-2.5:\n",
            "      Successfully uninstalled networkx-2.5\n",
            "Successfully installed networkx-2.3\n"
          ],
          "name": "stdout"
        }
      ]
    },
    {
      "cell_type": "code",
      "metadata": {
        "id": "mHlVT3KVbPml"
      },
      "source": [
        "###############################################################################\n",
        "### packages required to run code.  Make sure to install all required packages.\n",
        "###############################################################################\n",
        "#  general\n",
        "import matplotlib.pyplot as plt\n",
        "import pandas as pd\n",
        "import os\n",
        "import string\n",
        "import numpy as np\n",
        "import re\n",
        "import pickle\n",
        "import warnings\n",
        "\n",
        "\n",
        "# sklearn\n",
        "from sklearn.feature_extraction.text import TfidfVectorizer\n",
        "from sklearn.cluster import KMeans, AgglomerativeClustering\n",
        "from sklearn.svm import SVC\n",
        "from sklearn.naive_bayes import MultinomialNB\n",
        "from sklearn.linear_model import LogisticRegression\n",
        "from sklearn.metrics import accuracy_score\n",
        "from sklearn.model_selection import train_test_split\n",
        "from sklearn.preprocessing import LabelEncoder, OneHotEncoder\n",
        "from sklearn.manifold import MDS\n",
        "from sklearn.metrics.pairwise import cosine_similarity\n",
        "from sklearn.ensemble import RandomForestClassifier\n",
        "from sklearn.feature_extraction.text import TfidfVectorizer\n",
        "from sklearn.model_selection import train_test_split\n",
        "from sklearn.datasets import load_files\n",
        "from sklearn.metrics import plot_confusion_matrix\n",
        "from sklearn.metrics import confusion_matrix\n",
        "\n",
        "\n",
        "# nltk\n",
        "import nltk\n",
        "from nltk.corpus import stopwords\n",
        "from nltk.stem import PorterStemmer\n",
        "\n",
        "import spacy as spacy\n",
        "nlp = spacy.load(\"en_core_web_sm\")"
      ],
      "execution_count": null,
      "outputs": []
    },
    {
      "cell_type": "code",
      "metadata": {
        "id": "VWqhZ5lGbPmn"
      },
      "source": [
        "if 'google.colab' in str(get_ipython()):\n",
        "    rootpath = \"/content/drive/MyDrive\"  \n",
        "else:\n",
        "    rootpath = \"g:/My Drive\"  \n",
        "\n",
        "asg = \"/movie_reviews/\"\n",
        "\n",
        "filepath = rootpath + asg\n",
        "logspath = rootpath + \"logs/\" + asg\n",
        "modelspath = filepath + \"models/\"\n",
        "objpath = filepath + \"objects/\"\n",
        "outputpath = filepath + \"output/\""
      ],
      "execution_count": null,
      "outputs": []
    },
    {
      "cell_type": "code",
      "metadata": {
        "id": "sbOaBzl3bPmm",
        "colab": {
          "base_uri": "https://localhost:8080/"
        },
        "outputId": "b0954ff9-bfb8-4650-9aec-2e334cf588e9"
      },
      "source": [
        "warnings.filterwarnings('ignore')\n",
        "nltk.download('stopwords')\n",
        "nltk.download('wordnet')"
      ],
      "execution_count": null,
      "outputs": [
        {
          "output_type": "stream",
          "text": [
            "[nltk_data] Downloading package stopwords to /root/nltk_data...\n",
            "[nltk_data]   Unzipping corpora/stopwords.zip.\n",
            "[nltk_data] Downloading package wordnet to /root/nltk_data...\n",
            "[nltk_data]   Unzipping corpora/wordnet.zip.\n"
          ],
          "name": "stdout"
        },
        {
          "output_type": "execute_result",
          "data": {
            "text/plain": [
              "True"
            ]
          },
          "metadata": {
            "tags": []
          },
          "execution_count": 5
        }
      ]
    },
    {
      "cell_type": "code",
      "metadata": {
        "id": "bj6RMqd7GtUC"
      },
      "source": [
        "#Section 3, 4, 5: Classifiers\n",
        "def sklearn_classifiers(X_train, X_test, y_train, y_test, model_type):\n",
        "    \n",
        "    #this function is to fit 3 different model scenarios.  Support vector machines, logistic regressions, naive bayes.\n",
        "    #svm = Support vector machin\n",
        "    #logistic = Logistic regression\n",
        "    #naive_bayes = Naive Bayes Multinomial\n",
        "    \n",
        " \n",
        "    #function returns the train test split scores of each model.\n",
        "    \n",
        "    if model_type == 'svm':\n",
        "        print(\"svm\")\n",
        "        model = SVC()\n",
        "\n",
        "    elif model_type == 'logistic':\n",
        "        print(\"logistic\")\n",
        "        model = LogisticRegression()\n",
        "\n",
        "    elif model_type == 'naive_bayes':\n",
        "        print(\"naive_bayes\")\n",
        "        model = MultinomialNB() \n",
        "    \n",
        "    model.fit(X_train, y_train)\n",
        "\n",
        "    \n",
        "    #NOTE THIS IS AN OVERFIT CASE SO YOU KNOW THAT IT IS WORKING\n",
        "    #ONCE YOU GET CLOSE TO 100% ACCURACY THEN COMMENT OUT THESE TWO LINES\n",
        "    #predictions = model.predict(X_train)\n",
        "    #accy = accuracy_score(y_train, predictions)\n",
        "    \n",
        "    #NOTE THIS IS THE CORRECT WAY TO TEST YOUR CLASSIFIERS\n",
        "    #UNCOMMENT THESE TWO LINES ONCE THE OVERFIT CASE YIELDS CLOSE TO 100% ACCURACY\n",
        "    predictions = model.predict(X_test)\n",
        "    accy = accuracy_score(y_test, predictions)\n",
        "    \n",
        "    return model, predictions, accy"
      ],
      "execution_count": null,
      "outputs": []
    },
    {
      "cell_type": "code",
      "metadata": {
        "id": "RmKqI4CEbPmp"
      },
      "source": [
        "def process_text(X, min_df=5, bigrams=False):\n",
        "    documents = []\n",
        "    from nltk.stem import WordNetLemmatizer\n",
        "\n",
        "    stemmer = WordNetLemmatizer()\n",
        "\n",
        "    for sen in range(0, len(X)):\n",
        "        # Remove all the special characters\n",
        "        document = re.sub(r'\\W', ' ', str(X[sen]))\n",
        "        \n",
        "        # remove all single characters\n",
        "        document = re.sub(r'\\s+[a-zA-Z]\\s+', ' ', document)\n",
        "        \n",
        "        # Remove single characters from the start\n",
        "        #document = re.sub(r'\\^[a-zA-Z]\\s+', ' ', document) \n",
        "        \n",
        "        # Substituting multiple spaces with single space\n",
        "        document = re.sub(r'\\s+', ' ', document, flags=re.I)\n",
        "        \n",
        "        # Removing prefixed 'b'\n",
        "        document = re.sub(r'^b\\s+', '', document)\n",
        "        \n",
        "        # Converting to Lowercase\n",
        "        document = document.lower()\n",
        "        \n",
        "        # Lemmatization\n",
        "        document = document.split()\n",
        "\n",
        "        document = [stemmer.lemmatize(word) for word in document]\n",
        "        document = ' '.join(document)\n",
        "        \n",
        "        documents.append(document)\n",
        "\n",
        "    if bigrams==True:\n",
        "            tfidfconverter = TfidfVectorizer(max_features=1500, min_df=min_df, ngram_range=(1,2), max_df=0.7, stop_words=stopwords.words('english'))\n",
        "    else:\n",
        "            tfidfconverter = TfidfVectorizer(max_features=1500, min_df=min_df, max_df=0.7, stop_words=stopwords.words('english'))\n",
        "\n",
        "\n",
        "    X = tfidfconverter.fit_transform(documents).toarray()\n",
        "    words = tfidfconverter.get_feature_names()\n",
        "    return X, documents, words"
      ],
      "execution_count": null,
      "outputs": []
    },
    {
      "cell_type": "code",
      "metadata": {
        "id": "w7DK6BX_GtUE"
      },
      "source": [
        "def most_informative_feature_for_binary_classification(feature_names, classifier, n=10):\n",
        "    class_labels = classifier.classes_\n",
        "    #feature_names = vectorizer.get_feature_names()\n",
        "    topn_class1 = sorted(zip(classifier.coef_[0], feature_names))[:n]\n",
        "    topn_class2 = sorted(zip(classifier.coef_[0], feature_names))[-n:]\n",
        "\n",
        "    for coef, feat in topn_class1:\n",
        "        print (class_labels[0], coef, feat)\n",
        "\n",
        "    print()\n",
        "\n",
        "    for coef, feat in reversed(topn_class2):\n",
        "        print (class_labels[1], coef, feat)\n",
        "\n",
        "def most_informative_feature_for_classification(classifier, document, n=10):\n",
        "\n",
        "    return words "
      ],
      "execution_count": null,
      "outputs": []
    },
    {
      "cell_type": "code",
      "metadata": {
        "id": "31kmYVvabPmt"
      },
      "source": [
        "# function to get dictionary of features for nltk classifiers\n",
        "def get_feature(r):\n",
        "    feature = {}\n",
        "    #print(r.shape)\n",
        "    for i, value in enumerate(r):\n",
        "        #print(i)\n",
        "        feature[words[i]] = value\n",
        "    return feature"
      ],
      "execution_count": null,
      "outputs": []
    },
    {
      "cell_type": "markdown",
      "metadata": {
        "id": "LtX9uQOidKrO"
      },
      "source": [
        "## Load Corpus"
      ]
    },
    {
      "cell_type": "markdown",
      "metadata": {
        "id": "583XE7KgGtUF"
      },
      "source": [
        "### load NLTK polarity data set"
      ]
    },
    {
      "cell_type": "code",
      "metadata": {
        "id": "HEGv6hHibPmr"
      },
      "source": [
        "dir='/content/drive/MyDrive/txt_sentoken/'\n",
        "\n",
        "movie_data = load_files(dir)\n",
        "X, y = movie_data.data, movie_data.target\n",
        "X, documents, words = process_text(X,  min_df=2, bigrams=True)\n",
        "class_names=set(y)"
      ],
      "execution_count": null,
      "outputs": []
    },
    {
      "cell_type": "code",
      "metadata": {
        "id": "9xUIKfXybPmt",
        "colab": {
          "base_uri": "https://localhost:8080/"
        },
        "outputId": "32cf6684-d036-4c52-e996-4d1bd09f1114"
      },
      "source": [
        "X.shape, len(documents), len(words)"
      ],
      "execution_count": null,
      "outputs": [
        {
          "output_type": "execute_result",
          "data": {
            "text/plain": [
              "((2000, 1500), 2000, 1500)"
            ]
          },
          "metadata": {
            "tags": []
          },
          "execution_count": 11
        }
      ]
    },
    {
      "cell_type": "code",
      "metadata": {
        "id": "r_YrzKdQGtUH"
      },
      "source": [
        "df = pd.DataFrame(movie_data.data, columns=['text'])\n",
        "df['text'] = df['text'].str.decode('utf-8')\n"
      ],
      "execution_count": null,
      "outputs": []
    },
    {
      "cell_type": "markdown",
      "metadata": {
        "id": "UqTVSRojMQPj"
      },
      "source": [
        "### Some stats about the data"
      ]
    },
    {
      "cell_type": "code",
      "metadata": {
        "id": "uIgeTFRWGtUH",
        "colab": {
          "base_uri": "https://localhost:8080/"
        },
        "outputId": "7adc874d-b8b7-4dfb-b026-e13ae0875e03"
      },
      "source": [
        "tokens = df['text'].str.split()\n",
        "# total number of tokens\n",
        "token_count = sum([len(l) for l in tokens])\n",
        "token_count"
      ],
      "execution_count": null,
      "outputs": [
        {
          "output_type": "execute_result",
          "data": {
            "text/plain": [
              "1492681"
            ]
          },
          "metadata": {
            "tags": []
          },
          "execution_count": 13
        }
      ]
    },
    {
      "cell_type": "code",
      "metadata": {
        "id": "z_iiD_0KGtUH"
      },
      "source": [
        "all_tokens = []\n",
        "for l in tokens:\n",
        "    all_tokens = all_tokens + l"
      ],
      "execution_count": null,
      "outputs": []
    },
    {
      "cell_type": "code",
      "metadata": {
        "id": "11svHCKoGtUI",
        "colab": {
          "base_uri": "https://localhost:8080/"
        },
        "outputId": "7e55ebe8-c3c9-420b-b607-f24194febbf2"
      },
      "source": [
        " series = pd.DataFrame(data=all_tokens).value_counts()\n",
        " series.head(10)"
      ],
      "execution_count": null,
      "outputs": [
        {
          "output_type": "execute_result",
          "data": {
            "text/plain": [
              ",      77717\n",
              "the    76178\n",
              ".      65876\n",
              "a      37934\n",
              "and    35343\n",
              "of     33970\n",
              "to     31759\n",
              "is     25163\n",
              "in     21591\n",
              "\"      17612\n",
              "dtype: int64"
            ]
          },
          "metadata": {
            "tags": []
          },
          "execution_count": 15
        }
      ]
    },
    {
      "cell_type": "code",
      "metadata": {
        "id": "EWdanAP6GtUI",
        "colab": {
          "base_uri": "https://localhost:8080/"
        },
        "outputId": "c7d1f3d4-627e-4806-e870-074cc45269c0"
      },
      "source": [
        "len(series)"
      ],
      "execution_count": null,
      "outputs": [
        {
          "output_type": "execute_result",
          "data": {
            "text/plain": [
              "50920"
            ]
          },
          "metadata": {
            "tags": []
          },
          "execution_count": 16
        }
      ]
    },
    {
      "cell_type": "code",
      "metadata": {
        "id": "4zvAMUvRGtUI",
        "colab": {
          "base_uri": "https://localhost:8080/"
        },
        "outputId": "2c2c2b7d-ae55-4579-c1ca-65f65e84b78c"
      },
      "source": [
        "token_count = sum([len(l) for l in tokens])\n",
        "token_count"
      ],
      "execution_count": null,
      "outputs": [
        {
          "output_type": "execute_result",
          "data": {
            "text/plain": [
              "1492681"
            ]
          },
          "metadata": {
            "tags": []
          },
          "execution_count": 17
        }
      ]
    },
    {
      "cell_type": "code",
      "metadata": {
        "id": "_QWjLpC7bPms"
      },
      "source": [
        "df = pd.DataFrame(data=X)\n",
        "df.columns = words\n",
        "tf_idf_corpus = df"
      ],
      "execution_count": null,
      "outputs": []
    },
    {
      "cell_type": "code",
      "metadata": {
        "id": "mzYTn3bVbPmu",
        "colab": {
          "base_uri": "https://localhost:8080/"
        },
        "outputId": "148851d8-729f-4a85-bdf6-1e9954a6e648"
      },
      "source": [
        "# ensure this word is not already in the columns\n",
        "'NLTKfeatures' in tf_idf_corpus.columns"
      ],
      "execution_count": null,
      "outputs": [
        {
          "output_type": "execute_result",
          "data": {
            "text/plain": [
              "False"
            ]
          },
          "metadata": {
            "tags": []
          },
          "execution_count": 19
        }
      ]
    },
    {
      "cell_type": "code",
      "metadata": {
        "tags": [],
        "id": "qctA4gIlGtUK"
      },
      "source": [
        "tf_idf_corpus['NLTKfeatures'] = tf_idf_corpus.apply(get_feature, axis=1)"
      ],
      "execution_count": null,
      "outputs": []
    },
    {
      "cell_type": "markdown",
      "metadata": {
        "id": "o1L5uQqqbPmx"
      },
      "source": [
        "## SKlearn Classifiers"
      ]
    },
    {
      "cell_type": "code",
      "metadata": {
        "id": "n1m6x-FoGtUK"
      },
      "source": [
        "# split the training and test set\n",
        "X_train, X_test, y_train, y_test = train_test_split(X, y, test_size=0.33, random_state=42)"
      ],
      "execution_count": null,
      "outputs": []
    },
    {
      "cell_type": "code",
      "metadata": {
        "id": "oDrwsANkbPmv",
        "colab": {
          "base_uri": "https://localhost:8080/"
        },
        "outputId": "c612021c-e41e-4967-c41e-0b42cd56033f"
      },
      "source": [
        "print(len(X))\n",
        "print(len(y))"
      ],
      "execution_count": null,
      "outputs": [
        {
          "output_type": "stream",
          "text": [
            "2000\n",
            "2000\n"
          ],
          "name": "stdout"
        }
      ]
    },
    {
      "cell_type": "code",
      "metadata": {
        "id": "dpISQewfbPmy",
        "colab": {
          "base_uri": "https://localhost:8080/"
        },
        "outputId": "8cbad956-b365-4947-a1d4-f9681946afc3"
      },
      "source": [
        "model_svm, y_hat, accy = sklearn_classifiers(X_train, X_test, y_train, y_test,'svm')\n",
        "accy"
      ],
      "execution_count": null,
      "outputs": [
        {
          "output_type": "stream",
          "text": [
            "svm\n"
          ],
          "name": "stdout"
        },
        {
          "output_type": "execute_result",
          "data": {
            "text/plain": [
              "0.8212121212121212"
            ]
          },
          "metadata": {
            "tags": []
          },
          "execution_count": 23
        }
      ]
    },
    {
      "cell_type": "code",
      "metadata": {
        "id": "5E_Qh1UxGtUL"
      },
      "source": [
        "def display_confusion_matrix(classifier, X_test, y_test, y_hat,class_names ):\n",
        "    cm=confusion_matrix(y_test, y_hat)\n",
        "    np.set_printoptions(precision=2)\n",
        "\n",
        "    titles_options = [(\"Confusion matrix, without normalization\", None),\n",
        "                        (\"Normalized confusion matrix\", 'true')]\n",
        "    for title, normalize in titles_options:\n",
        "            disp = plot_confusion_matrix(classifier, X_test, y_test,\n",
        "                                        display_labels=class_names,\n",
        "                                        cmap=plt.cm.Blues,\n",
        "                                        normalize=normalize)\n",
        "            disp.ax_.set_title(title)\n",
        "            print(title)\n",
        "            print(disp.confusion_matrix)\n",
        "\n",
        "    plt.show()\n"
      ],
      "execution_count": null,
      "outputs": []
    },
    {
      "cell_type": "code",
      "metadata": {
        "id": "hxyO4ygFGtUL"
      },
      "source": [
        "def model_metrics(y_test, y_hat):\n",
        "    # Actual = 0 (negative), but predicted = 1 (positive)\n",
        "    false_positive = np.where((y_test != y_hat) & (y_test ==0))\n",
        "    print(f'False Positive  count = {len(false_positive[0])}\\n {false_positive} \\n')\n",
        "\n",
        "    # Actual = 1 (positive), but predicted = 0 (negative)\n",
        "    false_negative = np.where((y_test != y_hat) & (y_test ==1))\n",
        "    print(f'False Negative  count = {len(false_negative[0])}\\n {false_negative}')\n"
      ],
      "execution_count": null,
      "outputs": []
    },
    {
      "cell_type": "code",
      "metadata": {
        "id": "_iM4y1yUGtUM",
        "colab": {
          "base_uri": "https://localhost:8080/",
          "height": 673
        },
        "outputId": "097de15b-72b3-4990-dc4d-c3438a4c86f3"
      },
      "source": [
        "display_confusion_matrix(model_svm, X_test, y_test, y_hat, class_names)"
      ],
      "execution_count": null,
      "outputs": [
        {
          "output_type": "stream",
          "text": [
            "Confusion matrix, without normalization\n",
            "[[265  54]\n",
            " [ 64 277]]\n",
            "Normalized confusion matrix\n",
            "[[0.83 0.17]\n",
            " [0.19 0.81]]\n"
          ],
          "name": "stdout"
        },
        {
          "output_type": "display_data",
          "data": {
            "image/png": "[encoded data removed]",
            "text/plain": [
              "<Figure size 432x288 with 2 Axes>"
            ]
          },
          "metadata": {
            "tags": [],
            "needs_background": "light"
          }
        },
        {
          "output_type": "display_data",
          "data": {
            "image/png": "[encoded data removed]",
            "text/plain": [
              "<Figure size 432x288 with 2 Axes>"
            ]
          },
          "metadata": {
            "tags": [],
            "needs_background": "light"
          }
        }
      ]
    },
    {
      "cell_type": "code",
      "metadata": {
        "id": "uKci_-t1GtUM",
        "colab": {
          "base_uri": "https://localhost:8080/"
        },
        "outputId": "6172f7bf-a532-4e27-9311-de5cc013bbf8"
      },
      "source": [
        "model_metrics(y_test, y_hat)"
      ],
      "execution_count": null,
      "outputs": [
        {
          "output_type": "stream",
          "text": [
            "False Positive  count = 54\n",
            " (array([  1,  10,  12,  17,  26,  37,  80,  89, 109, 122, 139, 141, 160,\n",
            "       164, 171, 173, 177, 178, 198, 238, 258, 278, 293, 296, 310, 313,\n",
            "       322, 323, 325, 342, 349, 354, 360, 381, 389, 402, 405, 406, 414,\n",
            "       424, 458, 465, 474, 475, 494, 520, 530, 553, 585, 594, 596, 603,\n",
            "       640, 643]),) \n",
            "\n",
            "False Negative  count = 64\n",
            " (array([  0,  16,  38,  64,  67,  75,  81,  83, 107, 108, 132, 169, 170,\n",
            "       185, 189, 190, 215, 255, 267, 269, 270, 283, 291, 303, 308, 311,\n",
            "       312, 331, 344, 358, 359, 362, 370, 399, 420, 428, 431, 436, 437,\n",
            "       447, 449, 452, 455, 481, 485, 492, 506, 508, 515, 531, 550, 559,\n",
            "       571, 572, 575, 590, 599, 611, 615, 620, 624, 635, 639, 650]),)\n"
          ],
          "name": "stdout"
        }
      ]
    },
    {
      "cell_type": "code",
      "metadata": {
        "id": "inlZH1q_GtUM",
        "colab": {
          "base_uri": "https://localhost:8080/"
        },
        "outputId": "c99f0af3-0c09-4df8-9fd9-cd6765fb5a0d"
      },
      "source": [
        "txt_lookup={}\n",
        "for i in range(0,len(documents)):\n",
        "    txt_lookup[str(X[i])]=documents[i]\n",
        "#creating datafram from TFIDF Matrix\n",
        "print(txt_lookup[str(X_test[0])])"
      ],
      "execution_count": null,
      "outputs": [
        {
          "output_type": "stream",
          "text": [
            "apollo 13 is simply one of the most dramatic film this summer apart from swashbuckling braveheart ndirector and former actor ron howard splash backdraft far away most noted for his dramatic film making display again his brilliance in creating drama and suspense in apollo 13 nbeing the second largest box office hit in the u this summer with more than u 150 million in the state alone this film is his most successful effort yet nperhaps one of the most appealing feature of this film is the pool of talented actor such a tom hank gump himself kevin bacon footloose tremor few good men etc gary sinise forrest gump bill paxton alien true lie boxing helena and ed harris the abyss just cause nall of whom gave good performance in their respective role napollo 13 wa the second worst accident ever to occur in the history of u spaceflight the worst being the challenger accident njim lovell hank the mission commander together with his crew fred haise paxton and last minute replacement tom swigert bacon are put to the ultimate test when part of their command module explodes on the third day of the mission more than three quarter way to the moon nsuspense and drama ensue a the three men are left in space with their spaceship out of control and the problem of surviving the journey home nif they ever reach it ned harris and gary sinise who play respectively the man in charge of the entire mission control and the astronaut who wa supposed to fly but wa diagnosed with measles both delve into their role superbly naudiences are shown the chaotic and worrisome state of the entire ground control crew a they frantically attempt to come up with idea on how to save the astronaut from hurtling into space nalso there are quite number of real news footage which were broadcast during the accident which took the entire u nation into 5 day of drama in 1970 nthe special effect by digital domain are up to standard and the music suit the suspense and drama very well thanks to film music maestro james horner nwatch out for the launching sequence it is simply one of the most breathtaking scene of the film na bad point though apollo 13 feature much technical jargon and many physic concept in it script nthose who consider themselves scientifically illiterate might have slight problem understanding what caused this and what caused that during the course of the show nthis is however just minor point just forget all those technical bullshit and immerse yourselves into the drama and suspense throughout the film nyou should enjoy it\n"
          ],
          "name": "stdout"
        }
      ]
    },
    {
      "cell_type": "code",
      "metadata": {
        "id": "FwoB3uUKGtUN",
        "colab": {
          "base_uri": "https://localhost:8080/"
        },
        "outputId": "8e8cf028-10c9-425c-a455-d3f3df86446f"
      },
      "source": [
        "from nltk.metrics import precision,recall,f_measure\n",
        "import collections\n",
        "\n",
        "# defaultdict works like a python dict but also adds the key if it does not exist\n",
        "refsets = collections.defaultdict(set)\n",
        "testsets = collections.defaultdict(set)\n",
        "\n",
        "# create a dictionary that has the index of all positive and negative documents\n",
        "# refsets is the actual class and testset is the predicted class \n",
        "for i, label in enumerate(y_test):\n",
        "    refsets[label].add(i)\n",
        "    observed = y_hat[i]\n",
        "    testsets[observed].add(i)\n",
        "\n",
        "# Uses sets to compute precision and recall\n",
        "# precision = (refrence ∩ test)/ test\n",
        "# recall = (reference ∩ test) / reference\n",
        "#print(refsets)\n",
        "print('pos precision:', precision(refsets[1], testsets[1]))\n",
        "print( 'pos recall:', recall(refsets[1], testsets[1]))\n",
        "print('pos F-measure:', f_measure(refsets[1], testsets[1]))\n",
        "print('neg precision:', precision(refsets[0], testsets[0]))\n",
        "print('neg recall:', recall(refsets[0], testsets[0]))\n",
        "print('neg F-measure:', f_measure(refsets[0], testsets[0]))"
      ],
      "execution_count": null,
      "outputs": [
        {
          "output_type": "stream",
          "text": [
            "pos precision: 0.8368580060422961\n",
            "pos recall: 0.8123167155425219\n",
            "pos F-measure: 0.824404761904762\n",
            "neg precision: 0.8054711246200608\n",
            "neg recall: 0.8307210031347962\n",
            "neg F-measure: 0.8179012345679013\n"
          ],
          "name": "stdout"
        }
      ]
    },
    {
      "cell_type": "code",
      "metadata": {
        "id": "h0mxoeCRGtUN"
      },
      "source": [
        "modelfile = modelspath + 'model_svm_pol.pickle'\n",
        "with open(modelfile, mode='wb') as outfile:\n",
        "    pickle.dump(model_svm, outfile )\n"
      ],
      "execution_count": null,
      "outputs": []
    },
    {
      "cell_type": "code",
      "metadata": {
        "id": "eJQV5YpQbPm0",
        "colab": {
          "base_uri": "https://localhost:8080/"
        },
        "outputId": "94c3b76e-cb3a-4f0b-8902-10b932f16ff0"
      },
      "source": [
        "model_logit, y_hat, accy = sklearn_classifiers(X_train, X_test, y_train, y_test,'logistic')\n",
        "accy"
      ],
      "execution_count": null,
      "outputs": [
        {
          "output_type": "stream",
          "text": [
            "logistic\n"
          ],
          "name": "stdout"
        },
        {
          "output_type": "execute_result",
          "data": {
            "text/plain": [
              "0.8151515151515152"
            ]
          },
          "metadata": {
            "tags": []
          },
          "execution_count": 31
        }
      ]
    },
    {
      "cell_type": "code",
      "metadata": {
        "id": "ix5HBEk1GtUN",
        "colab": {
          "base_uri": "https://localhost:8080/",
          "height": 279
        },
        "outputId": "26fc2c20-90b3-451f-d1dc-ea10980a1f14"
      },
      "source": [
        "plot_confusion_matrix(model_logit, X_test, y_test)  \n",
        "plt.show()"
      ],
      "execution_count": null,
      "outputs": [
        {
          "output_type": "display_data",
          "data": {
            "image/png": "[encoded data removed]",
            "text/plain": [
              "<Figure size 432x288 with 2 Axes>"
            ]
          },
          "metadata": {
            "tags": [],
            "needs_background": "light"
          }
        }
      ]
    },
    {
      "cell_type": "code",
      "metadata": {
        "id": "usN0wO2fGtUO"
      },
      "source": [
        "modelfile = modelspath + 'model_logit_pol.pickle'\n",
        "with open(modelfile, mode='wb') as outfile:\n",
        "    pickle.dump(model_logit, outfile )"
      ],
      "execution_count": null,
      "outputs": []
    },
    {
      "cell_type": "code",
      "metadata": {
        "id": "ik67RbnMGtUO",
        "colab": {
          "base_uri": "https://localhost:8080/"
        },
        "outputId": "4f6a446b-2f2f-4c29-a299-4cf18d163be6"
      },
      "source": [
        "most_informative_feature_for_binary_classification(words, model_logit, n=10)"
      ],
      "execution_count": null,
      "outputs": [
        {
          "output_type": "stream",
          "text": [
            "0 -3.0183795080166216 bad\n",
            "0 -2.0535014499136786 worst\n",
            "0 -2.046719588144786 plot\n",
            "0 -1.7501465911675431 supposed\n",
            "0 -1.635241693894532 script\n",
            "0 -1.5232536709383573 boring\n",
            "0 -1.5025787813439366 nothing\n",
            "0 -1.480090795897062 attempt\n",
            "0 -1.3054437283151408 stupid\n",
            "0 -1.3004882089024818 awful\n",
            "\n",
            "1 2.006509473214591 well\n",
            "1 1.8109590397196704 great\n",
            "1 1.7475755603409453 life\n",
            "1 1.6178856619087232 also\n",
            "1 1.489546795673507 war\n",
            "1 1.4402539380782797 performance\n",
            "1 1.3810217210013598 best\n",
            "1 1.218634232738987 political\n",
            "1 1.166735768139537 perfectly\n",
            "1 1.1381097136937846 fun\n"
          ],
          "name": "stdout"
        }
      ]
    },
    {
      "cell_type": "code",
      "metadata": {
        "id": "l1Pb4x7JGtUO"
      },
      "source": [
        "logit_coef = sorted(zip(model_logit.coef_[0], words), reverse=True)\n",
        "df = pd.DataFrame(logit_coef, columns=['coef', 'word'])\n",
        "logit_coef_df = df\n",
        "logit_coef_df.to_pickle(objpath + 'polarity_logit_coef.pickle' )\n"
      ],
      "execution_count": null,
      "outputs": []
    },
    {
      "cell_type": "code",
      "metadata": {
        "id": "vjMR_uCbGtUO"
      },
      "source": [
        "df = pd.DataFrame(logit_coef, columns=['coef', 'word'])"
      ],
      "execution_count": null,
      "outputs": []
    },
    {
      "cell_type": "code",
      "metadata": {
        "id": "5IueBkY_bPm1",
        "colab": {
          "base_uri": "https://localhost:8080/"
        },
        "outputId": "66f09924-e507-47bd-e35a-9c4df2fc69f1"
      },
      "source": [
        "model_nb, predictions, accy = sklearn_classifiers(X_train, X_test, y_train, y_test,'naive_bayes')\n",
        "accy"
      ],
      "execution_count": null,
      "outputs": [
        {
          "output_type": "stream",
          "text": [
            "naive_bayes\n"
          ],
          "name": "stdout"
        },
        {
          "output_type": "execute_result",
          "data": {
            "text/plain": [
              "0.793939393939394"
            ]
          },
          "metadata": {
            "tags": []
          },
          "execution_count": 37
        }
      ]
    },
    {
      "cell_type": "code",
      "metadata": {
        "id": "OzOm70CQGtUP",
        "colab": {
          "base_uri": "https://localhost:8080/",
          "height": 279
        },
        "outputId": "d734eb6e-72e2-497a-de82-d05ae9c3f6f4"
      },
      "source": [
        "plot_confusion_matrix(model_nb, X_test, y_test)  \n",
        "plt.show()"
      ],
      "execution_count": null,
      "outputs": [
        {
          "output_type": "display_data",
          "data": {
            "image/png": "[encoded data removed]",
            "text/plain": [
              "<Figure size 432x288 with 2 Axes>"
            ]
          },
          "metadata": {
            "tags": [],
            "needs_background": "light"
          }
        }
      ]
    },
    {
      "cell_type": "code",
      "metadata": {
        "id": "g9NdSmlfGtUP"
      },
      "source": [
        "modelfile = modelspath + 'model_naive_bayes_pol.pickle'\n",
        "with open(modelfile, mode='wb') as outfile:\n",
        "    pickle.dump(model_nb, outfile )"
      ],
      "execution_count": null,
      "outputs": []
    },
    {
      "cell_type": "code",
      "metadata": {
        "id": "CvEVoldUGtUP",
        "colab": {
          "base_uri": "https://localhost:8080/"
        },
        "outputId": "1ff5ac16-30a4-456e-8f1b-a68233fb84f1"
      },
      "source": [
        "most_informative_feature_for_binary_classification(words, model_nb, n=10)"
      ],
      "execution_count": null,
      "outputs": [
        {
          "output_type": "stream",
          "text": [
            "0 -8.882146507424094 godzilla\n",
            "0 -8.614468097674749 ridiculous\n",
            "0 -8.555418241726386 awful\n",
            "0 -8.548564315138002 wasted\n",
            "0 -8.529759660606565 poorly\n",
            "0 -8.528497912954247 specie\n",
            "0 -8.4775366320544 lame\n",
            "0 -8.45113782217761 bad movie\n",
            "0 -8.434951517177524 waste\n",
            "0 -8.409256199256486 pointless\n",
            "\n",
            "1 -5.8361651166986 life\n",
            "1 -5.836474290470502 story\n",
            "1 -5.846104341301183 nit\n",
            "1 -5.90393283616781 scene\n",
            "1 -5.970660258308742 good\n",
            "1 -5.9808570585419325 get\n",
            "1 -5.994254350316394 make\n",
            "1 -6.004413973339101 well\n",
            "1 -6.011321595638762 also\n",
            "1 -6.053388884248683 nhe\n"
          ],
          "name": "stdout"
        }
      ]
    },
    {
      "cell_type": "markdown",
      "metadata": {
        "id": "WaNJgA2hbPm3"
      },
      "source": [
        "## NLTK Clasifiers"
      ]
    },
    {
      "cell_type": "code",
      "metadata": {
        "id": "Pcn6h8O7bPm5"
      },
      "source": [
        "featuresets = [(f, y[i]) for i, f in enumerate (tf_idf_corpus['NLTKfeatures'])]"
      ],
      "execution_count": null,
      "outputs": []
    },
    {
      "cell_type": "code",
      "metadata": {
        "id": "_BSDM-I0GtUQ"
      },
      "source": [
        "training_set = featuresets[:1900]\n",
        "testing_set = featuresets[1900:]"
      ],
      "execution_count": null,
      "outputs": []
    },
    {
      "cell_type": "code",
      "metadata": {
        "id": "StAwkA0PGtUQ"
      },
      "source": [
        "classifier = nltk.NaiveBayesClassifier.train(training_set)"
      ],
      "execution_count": null,
      "outputs": []
    },
    {
      "cell_type": "code",
      "metadata": {
        "id": "WEUKK1QFGtUQ",
        "colab": {
          "base_uri": "https://localhost:8080/"
        },
        "outputId": "3d4fe7d3-c997-4f56-ab4f-1d4a25460a1b"
      },
      "source": [
        "print(\"Naive bayes algo accurcy:\", (nltk.classify.accuracy(classifier, testing_set))*100)"
      ],
      "execution_count": null,
      "outputs": [
        {
          "output_type": "stream",
          "text": [
            "Naive bayes algo accurcy: 60.0\n"
          ],
          "name": "stdout"
        }
      ]
    },
    {
      "cell_type": "code",
      "metadata": {
        "id": "zn_17gaZGtUR",
        "colab": {
          "base_uri": "https://localhost:8080/"
        },
        "outputId": "02b72f2d-e78d-4518-ae62-2c4fc6c58122"
      },
      "source": [
        "classifier.show_most_informative_features(15)"
      ],
      "execution_count": null,
      "outputs": [
        {
          "output_type": "stream",
          "text": [
            "Most Informative Features\n",
            "                     bad = 0.0                 1 : 0      =      1.5 : 1.0\n",
            "             performance = 0.0                 0 : 1      =      1.3 : 1.0\n",
            "                    plot = 0.0                 1 : 0      =      1.3 : 1.0\n",
            "                    life = 0.0                 0 : 1      =      1.3 : 1.0\n",
            "                    well = 0.0                 0 : 1      =      1.3 : 1.0\n",
            "                      ni = 0.0                 1 : 0      =      1.3 : 1.0\n",
            "                    also = 0.0                 0 : 1      =      1.3 : 1.0\n",
            "                    best = 0.0                 0 : 1      =      1.2 : 1.0\n",
            "                     see = 0.0                 0 : 1      =      1.2 : 1.0\n",
            "                   world = 0.0                 0 : 1      =      1.2 : 1.0\n",
            "                   great = 0.0                 0 : 1      =      1.2 : 1.0\n",
            "                   worst = 0.0                 1 : 0      =      1.2 : 1.0\n",
            "                  script = 0.0                 1 : 0      =      1.2 : 1.0\n",
            "                 nothing = 0.0                 1 : 0      =      1.2 : 1.0\n",
            "                     nit = 0.0                 0 : 1      =      1.2 : 1.0\n"
          ],
          "name": "stdout"
        }
      ]
    },
    {
      "cell_type": "markdown",
      "metadata": {
        "id": "wfke9NUlbPm6"
      },
      "source": [
        "## Class Corpus sentiment\n"
      ]
    },
    {
      "cell_type": "markdown",
      "metadata": {
        "id": "rn6lNIlLGtUR"
      },
      "source": [
        "### Load Class Corpus"
      ]
    },
    {
      "cell_type": "code",
      "metadata": {
        "id": "5rOPzr94bPmq"
      },
      "source": [
        "#load class corpus\n",
        "path_to_file= filepath + '2021_Winter_453_Sec56_Class_Corpus_Updated.csv'\n",
        "data=pd.read_csv(path_to_file)\n",
        "title = data['DSI_Title']\n",
        "text = list(data['Text'])"
      ],
      "execution_count": null,
      "outputs": []
    },
    {
      "cell_type": "code",
      "metadata": {
        "id": "DyNq0oXFGtUR"
      },
      "source": [
        "X_class_corpus, documents_class_corpus, features_class_corpus = process_text(text, min_df=2)"
      ],
      "execution_count": null,
      "outputs": []
    },
    {
      "cell_type": "code",
      "metadata": {
        "id": "cHCm6FzHbPm7"
      },
      "source": [
        "data['svm'] = model_svm.predict(X_class_corpus)\n",
        "data['logit'] = model_logit.predict(X_class_corpus)\n",
        "data['naive_bayes'] = model_nb.predict(X_class_corpus)"
      ],
      "execution_count": null,
      "outputs": []
    },
    {
      "cell_type": "code",
      "metadata": {
        "id": "ze3qnOcAbPm8",
        "colab": {
          "base_uri": "https://localhost:8080/",
          "height": 1000
        },
        "outputId": "c3e6989e-2f3f-4cd6-e8df-ea3dab6ca1ca"
      },
      "source": [
        "# 0 is negative and 1 is positive\n",
        "data[['DSI_Title', 'svm', 'logit', 'naive_bayes']]\n"
      ],
      "execution_count": null,
      "outputs": [
        {
          "output_type": "execute_result",
          "data": {
            "text/html": [
              "<div>\n",
              "<style scoped>\n",
              "    .dataframe tbody tr th:only-of-type {\n",
              "        vertical-align: middle;\n",
              "    }\n",
              "\n",
              "    .dataframe tbody tr th {\n",
              "        vertical-align: top;\n",
              "    }\n",
              "\n",
              "    .dataframe thead th {\n",
              "        text-align: right;\n",
              "    }\n",
              "</style>\n",
              "<table border=\"1\" class=\"dataframe\">\n",
              "  <thead>\n",
              "    <tr style=\"text-align: right;\">\n",
              "      <th></th>\n",
              "      <th>DSI_Title</th>\n",
              "      <th>svm</th>\n",
              "      <th>logit</th>\n",
              "      <th>naive_bayes</th>\n",
              "    </tr>\n",
              "  </thead>\n",
              "  <tbody>\n",
              "    <tr>\n",
              "      <th>0</th>\n",
              "      <td>KS_Doc1_2001 Space Odyssey.txt</td>\n",
              "      <td>1</td>\n",
              "      <td>1</td>\n",
              "      <td>0</td>\n",
              "    </tr>\n",
              "    <tr>\n",
              "      <th>1</th>\n",
              "      <td>KS_Doc2_Wargames.txt</td>\n",
              "      <td>1</td>\n",
              "      <td>1</td>\n",
              "      <td>1</td>\n",
              "    </tr>\n",
              "    <tr>\n",
              "      <th>2</th>\n",
              "      <td>KS_Doc3_The_Matrix.txt</td>\n",
              "      <td>0</td>\n",
              "      <td>0</td>\n",
              "      <td>0</td>\n",
              "    </tr>\n",
              "    <tr>\n",
              "      <th>3</th>\n",
              "      <td>KS_Doc4_I_Robot.txt</td>\n",
              "      <td>1</td>\n",
              "      <td>1</td>\n",
              "      <td>1</td>\n",
              "    </tr>\n",
              "    <tr>\n",
              "      <th>4</th>\n",
              "      <td>KS_Doc5_Ex_Machina.txt</td>\n",
              "      <td>1</td>\n",
              "      <td>1</td>\n",
              "      <td>1</td>\n",
              "    </tr>\n",
              "    <tr>\n",
              "      <th>5</th>\n",
              "      <td>KS_Doc6_Her.txt</td>\n",
              "      <td>0</td>\n",
              "      <td>0</td>\n",
              "      <td>1</td>\n",
              "    </tr>\n",
              "    <tr>\n",
              "      <th>6</th>\n",
              "      <td>KS_Doc7_The Terminator.txt</td>\n",
              "      <td>1</td>\n",
              "      <td>1</td>\n",
              "      <td>1</td>\n",
              "    </tr>\n",
              "    <tr>\n",
              "      <th>7</th>\n",
              "      <td>PP_Doc1_Disneys_New_Mulan.txt</td>\n",
              "      <td>0</td>\n",
              "      <td>0</td>\n",
              "      <td>0</td>\n",
              "    </tr>\n",
              "    <tr>\n",
              "      <th>8</th>\n",
              "      <td>PP_Doc2_Cinderella_Review_Straight-Faced.txt</td>\n",
              "      <td>0</td>\n",
              "      <td>0</td>\n",
              "      <td>0</td>\n",
              "    </tr>\n",
              "    <tr>\n",
              "      <th>9</th>\n",
              "      <td>PP_Doc3_Aladdin_Review_This.txt</td>\n",
              "      <td>1</td>\n",
              "      <td>1</td>\n",
              "      <td>1</td>\n",
              "    </tr>\n",
              "    <tr>\n",
              "      <th>10</th>\n",
              "      <td>PP_Doc4_Review_Beauty_And.txt</td>\n",
              "      <td>0</td>\n",
              "      <td>1</td>\n",
              "      <td>0</td>\n",
              "    </tr>\n",
              "    <tr>\n",
              "      <th>11</th>\n",
              "      <td>PP_Doc5_Film_Review_Tim.txt</td>\n",
              "      <td>0</td>\n",
              "      <td>0</td>\n",
              "      <td>0</td>\n",
              "    </tr>\n",
              "    <tr>\n",
              "      <th>12</th>\n",
              "      <td>PP_Doc6_The_Jungle_Book.txt</td>\n",
              "      <td>1</td>\n",
              "      <td>1</td>\n",
              "      <td>1</td>\n",
              "    </tr>\n",
              "    <tr>\n",
              "      <th>13</th>\n",
              "      <td>PP_Doc7_Whats_A_Nice.txt</td>\n",
              "      <td>1</td>\n",
              "      <td>1</td>\n",
              "      <td>1</td>\n",
              "    </tr>\n",
              "    <tr>\n",
              "      <th>14</th>\n",
              "      <td>SW_DOC1_AIRFORCEONE.txt</td>\n",
              "      <td>0</td>\n",
              "      <td>0</td>\n",
              "      <td>0</td>\n",
              "    </tr>\n",
              "    <tr>\n",
              "      <th>15</th>\n",
              "      <td>SW_DOC2_CLEARANDPRESENTDANGER.txt</td>\n",
              "      <td>0</td>\n",
              "      <td>0</td>\n",
              "      <td>0</td>\n",
              "    </tr>\n",
              "    <tr>\n",
              "      <th>16</th>\n",
              "      <td>SW_DOC3_CRIMSONTIDE.txt</td>\n",
              "      <td>0</td>\n",
              "      <td>0</td>\n",
              "      <td>0</td>\n",
              "    </tr>\n",
              "    <tr>\n",
              "      <th>17</th>\n",
              "      <td>SW_DOC4_HUNTFORREDOCTOBER.txt</td>\n",
              "      <td>0</td>\n",
              "      <td>0</td>\n",
              "      <td>0</td>\n",
              "    </tr>\n",
              "    <tr>\n",
              "      <th>18</th>\n",
              "      <td>SW_DOC5_INTHELINEOFFIRE.txt</td>\n",
              "      <td>1</td>\n",
              "      <td>1</td>\n",
              "      <td>0</td>\n",
              "    </tr>\n",
              "    <tr>\n",
              "      <th>19</th>\n",
              "      <td>SW_DOC6_PATRIOTGAMES.txt</td>\n",
              "      <td>0</td>\n",
              "      <td>0</td>\n",
              "      <td>0</td>\n",
              "    </tr>\n",
              "    <tr>\n",
              "      <th>20</th>\n",
              "      <td>SW_DOC7_FUGITIVE.txt</td>\n",
              "      <td>1</td>\n",
              "      <td>0</td>\n",
              "      <td>0</td>\n",
              "    </tr>\n",
              "    <tr>\n",
              "      <th>21</th>\n",
              "      <td>VPD_DOC1_AMELIE.txt</td>\n",
              "      <td>1</td>\n",
              "      <td>1</td>\n",
              "      <td>1</td>\n",
              "    </tr>\n",
              "    <tr>\n",
              "      <th>22</th>\n",
              "      <td>VPD_DOC2_EAT_PRAY_LOVE.txt</td>\n",
              "      <td>1</td>\n",
              "      <td>1</td>\n",
              "      <td>1</td>\n",
              "    </tr>\n",
              "    <tr>\n",
              "      <th>23</th>\n",
              "      <td>VPD_DOC3_MIDNIGHT_IN_PARIS.txt</td>\n",
              "      <td>1</td>\n",
              "      <td>1</td>\n",
              "      <td>1</td>\n",
              "    </tr>\n",
              "    <tr>\n",
              "      <th>24</th>\n",
              "      <td>VPD_DOC4_THE_BEST_EXOTIC_MARIGOLD_HOTEL.txt</td>\n",
              "      <td>0</td>\n",
              "      <td>0</td>\n",
              "      <td>1</td>\n",
              "    </tr>\n",
              "    <tr>\n",
              "      <th>25</th>\n",
              "      <td>VPD_DOC5_THE_SECRET_LIFE_OF_WALTER_MITTY.txt</td>\n",
              "      <td>1</td>\n",
              "      <td>1</td>\n",
              "      <td>1</td>\n",
              "    </tr>\n",
              "    <tr>\n",
              "      <th>26</th>\n",
              "      <td>VPD_DOC6_THE_BUCKET_LIST.txt</td>\n",
              "      <td>1</td>\n",
              "      <td>1</td>\n",
              "      <td>1</td>\n",
              "    </tr>\n",
              "    <tr>\n",
              "      <th>27</th>\n",
              "      <td>VPD_DOC7_TO_ROME_WITH_LOVE.txt</td>\n",
              "      <td>1</td>\n",
              "      <td>1</td>\n",
              "      <td>0</td>\n",
              "    </tr>\n",
              "    <tr>\n",
              "      <th>28</th>\n",
              "      <td>YF_Doc1_Hidden_Figures.txt</td>\n",
              "      <td>1</td>\n",
              "      <td>1</td>\n",
              "      <td>1</td>\n",
              "    </tr>\n",
              "    <tr>\n",
              "      <th>29</th>\n",
              "      <td>YF_Doc2_The_Imitation_Game.txt</td>\n",
              "      <td>1</td>\n",
              "      <td>1</td>\n",
              "      <td>1</td>\n",
              "    </tr>\n",
              "    <tr>\n",
              "      <th>30</th>\n",
              "      <td>YF_Doc3_Argo.txt</td>\n",
              "      <td>0</td>\n",
              "      <td>1</td>\n",
              "      <td>1</td>\n",
              "    </tr>\n",
              "    <tr>\n",
              "      <th>31</th>\n",
              "      <td>YF_Doc4_Snowden.txt</td>\n",
              "      <td>0</td>\n",
              "      <td>0</td>\n",
              "      <td>0</td>\n",
              "    </tr>\n",
              "    <tr>\n",
              "      <th>32</th>\n",
              "      <td>YF_Doc5_The_Revenant.txt</td>\n",
              "      <td>1</td>\n",
              "      <td>1</td>\n",
              "      <td>1</td>\n",
              "    </tr>\n",
              "    <tr>\n",
              "      <th>33</th>\n",
              "      <td>YF_Doc6_Lincoln.txt</td>\n",
              "      <td>1</td>\n",
              "      <td>1</td>\n",
              "      <td>1</td>\n",
              "    </tr>\n",
              "    <tr>\n",
              "      <th>34</th>\n",
              "      <td>YF_Doc7_The_Fifth_Estate.txt</td>\n",
              "      <td>0</td>\n",
              "      <td>0</td>\n",
              "      <td>0</td>\n",
              "    </tr>\n",
              "    <tr>\n",
              "      <th>35</th>\n",
              "      <td>SD_12 years a slave.docx</td>\n",
              "      <td>1</td>\n",
              "      <td>1</td>\n",
              "      <td>1</td>\n",
              "    </tr>\n",
              "    <tr>\n",
              "      <th>36</th>\n",
              "      <td>SD_Birdman.docx</td>\n",
              "      <td>0</td>\n",
              "      <td>0</td>\n",
              "      <td>0</td>\n",
              "    </tr>\n",
              "    <tr>\n",
              "      <th>37</th>\n",
              "      <td>SD_Green Book.docx</td>\n",
              "      <td>1</td>\n",
              "      <td>1</td>\n",
              "      <td>0</td>\n",
              "    </tr>\n",
              "    <tr>\n",
              "      <th>38</th>\n",
              "      <td>SD_Moonlight.docx</td>\n",
              "      <td>0</td>\n",
              "      <td>0</td>\n",
              "      <td>0</td>\n",
              "    </tr>\n",
              "    <tr>\n",
              "      <th>39</th>\n",
              "      <td>SD_Parasite.docx</td>\n",
              "      <td>1</td>\n",
              "      <td>1</td>\n",
              "      <td>0</td>\n",
              "    </tr>\n",
              "    <tr>\n",
              "      <th>40</th>\n",
              "      <td>SD_Shape Of Water.docx</td>\n",
              "      <td>1</td>\n",
              "      <td>1</td>\n",
              "      <td>1</td>\n",
              "    </tr>\n",
              "    <tr>\n",
              "      <th>41</th>\n",
              "      <td>SD_Spotlight.docx</td>\n",
              "      <td>1</td>\n",
              "      <td>1</td>\n",
              "      <td>1</td>\n",
              "    </tr>\n",
              "  </tbody>\n",
              "</table>\n",
              "</div>"
            ],
            "text/plain": [
              "                                       DSI_Title  svm  logit  naive_bayes\n",
              "0                 KS_Doc1_2001 Space Odyssey.txt    1      1            0\n",
              "1                           KS_Doc2_Wargames.txt    1      1            1\n",
              "2                         KS_Doc3_The_Matrix.txt    0      0            0\n",
              "3                            KS_Doc4_I_Robot.txt    1      1            1\n",
              "4                         KS_Doc5_Ex_Machina.txt    1      1            1\n",
              "5                                KS_Doc6_Her.txt    0      0            1\n",
              "6                     KS_Doc7_The Terminator.txt    1      1            1\n",
              "7                  PP_Doc1_Disneys_New_Mulan.txt    0      0            0\n",
              "8   PP_Doc2_Cinderella_Review_Straight-Faced.txt    0      0            0\n",
              "9                PP_Doc3_Aladdin_Review_This.txt    1      1            1\n",
              "10                 PP_Doc4_Review_Beauty_And.txt    0      1            0\n",
              "11                   PP_Doc5_Film_Review_Tim.txt    0      0            0\n",
              "12                   PP_Doc6_The_Jungle_Book.txt    1      1            1\n",
              "13                      PP_Doc7_Whats_A_Nice.txt    1      1            1\n",
              "14                       SW_DOC1_AIRFORCEONE.txt    0      0            0\n",
              "15             SW_DOC2_CLEARANDPRESENTDANGER.txt    0      0            0\n",
              "16                       SW_DOC3_CRIMSONTIDE.txt    0      0            0\n",
              "17                 SW_DOC4_HUNTFORREDOCTOBER.txt    0      0            0\n",
              "18                   SW_DOC5_INTHELINEOFFIRE.txt    1      1            0\n",
              "19                      SW_DOC6_PATRIOTGAMES.txt    0      0            0\n",
              "20                          SW_DOC7_FUGITIVE.txt    1      0            0\n",
              "21                           VPD_DOC1_AMELIE.txt    1      1            1\n",
              "22                    VPD_DOC2_EAT_PRAY_LOVE.txt    1      1            1\n",
              "23                VPD_DOC3_MIDNIGHT_IN_PARIS.txt    1      1            1\n",
              "24   VPD_DOC4_THE_BEST_EXOTIC_MARIGOLD_HOTEL.txt    0      0            1\n",
              "25  VPD_DOC5_THE_SECRET_LIFE_OF_WALTER_MITTY.txt    1      1            1\n",
              "26                  VPD_DOC6_THE_BUCKET_LIST.txt    1      1            1\n",
              "27                VPD_DOC7_TO_ROME_WITH_LOVE.txt    1      1            0\n",
              "28                    YF_Doc1_Hidden_Figures.txt    1      1            1\n",
              "29                YF_Doc2_The_Imitation_Game.txt    1      1            1\n",
              "30                              YF_Doc3_Argo.txt    0      1            1\n",
              "31                           YF_Doc4_Snowden.txt    0      0            0\n",
              "32                      YF_Doc5_The_Revenant.txt    1      1            1\n",
              "33                           YF_Doc6_Lincoln.txt    1      1            1\n",
              "34                  YF_Doc7_The_Fifth_Estate.txt    0      0            0\n",
              "35                      SD_12 years a slave.docx    1      1            1\n",
              "36                               SD_Birdman.docx    0      0            0\n",
              "37                            SD_Green Book.docx    1      1            0\n",
              "38                             SD_Moonlight.docx    0      0            0\n",
              "39                              SD_Parasite.docx    1      1            0\n",
              "40                        SD_Shape Of Water.docx    1      1            1\n",
              "41                             SD_Spotlight.docx    1      1            1"
            ]
          },
          "metadata": {
            "tags": []
          },
          "execution_count": 49
        }
      ]
    },
    {
      "cell_type": "markdown",
      "metadata": {
        "id": "b6F7uEzPGtUS"
      },
      "source": [
        "## Determine key words based on the above predictors "
      ]
    },
    {
      "cell_type": "markdown",
      "metadata": {
        "id": "WIUZwPnlbPm9"
      },
      "source": [
        "## Based on above models create labeled Data set for the class corpus. "
      ]
    },
    {
      "cell_type": "code",
      "metadata": {
        "id": "rBcZrV90GtUS"
      },
      "source": [
        "y_class_corpus = data['logit'].to_numpy()"
      ],
      "execution_count": null,
      "outputs": []
    },
    {
      "cell_type": "code",
      "metadata": {
        "id": "S9yQDXeWGtUT"
      },
      "source": [
        "X_train, X_test, y_train, y_test = train_test_split(X_class_corpus, y_class_corpus, test_size=0.2, random_state=0)"
      ],
      "execution_count": null,
      "outputs": []
    },
    {
      "cell_type": "code",
      "metadata": {
        "id": "PhmMJcvbGtUT",
        "colab": {
          "base_uri": "https://localhost:8080/"
        },
        "outputId": "c78354e3-61b0-4580-a938-3ca2d0286511"
      },
      "source": [
        "X_train.shape,X_test.shape"
      ],
      "execution_count": null,
      "outputs": [
        {
          "output_type": "execute_result",
          "data": {
            "text/plain": [
              "((33, 1500), (9, 1500))"
            ]
          },
          "metadata": {
            "tags": []
          },
          "execution_count": 52
        }
      ]
    },
    {
      "cell_type": "code",
      "metadata": {
        "id": "DM0hv69BGtUT",
        "colab": {
          "base_uri": "https://localhost:8080/"
        },
        "outputId": "f2af847b-1d34-4358-b898-176cf44002c1"
      },
      "source": [
        "model_svm, y_hat, accy = sklearn_classifiers(X_train, X_test, y_train, y_test ,'svm')\n",
        "accy"
      ],
      "execution_count": null,
      "outputs": [
        {
          "output_type": "stream",
          "text": [
            "svm\n"
          ],
          "name": "stdout"
        },
        {
          "output_type": "execute_result",
          "data": {
            "text/plain": [
              "0.7777777777777778"
            ]
          },
          "metadata": {
            "tags": []
          },
          "execution_count": 53
        }
      ]
    },
    {
      "cell_type": "code",
      "metadata": {
        "id": "h7qcgeGrGtUT",
        "colab": {
          "base_uri": "https://localhost:8080/",
          "height": 283
        },
        "outputId": "917d7f04-1ae7-4119-edf9-a8ba4cdbf140"
      },
      "source": [
        "plot_confusion_matrix(model_svm, X_test, y_test)  \n",
        "plt.show()"
      ],
      "execution_count": null,
      "outputs": [
        {
          "output_type": "display_data",
          "data": {
            "image/png": "[encoded data removed]",
            "text/plain": [
              "<Figure size 432x288 with 2 Axes>"
            ]
          },
          "metadata": {
            "tags": [],
            "needs_background": "light"
          }
        }
      ]
    },
    {
      "cell_type": "code",
      "metadata": {
        "id": "1N4hzA1qGtUX",
        "colab": {
          "base_uri": "https://localhost:8080/"
        },
        "outputId": "59ee0121-be79-4bcf-ca44-7b08a63a023d"
      },
      "source": [
        "model_logit, y_hat, accy = sklearn_classifiers(X_train, X_test, y_train, y_test ,'logistic')\n",
        "accy"
      ],
      "execution_count": null,
      "outputs": [
        {
          "output_type": "stream",
          "text": [
            "logistic\n"
          ],
          "name": "stdout"
        },
        {
          "output_type": "execute_result",
          "data": {
            "text/plain": [
              "0.7777777777777778"
            ]
          },
          "metadata": {
            "tags": []
          },
          "execution_count": 55
        }
      ]
    },
    {
      "cell_type": "code",
      "metadata": {
        "id": "iFl1FvC2GtUX",
        "colab": {
          "base_uri": "https://localhost:8080/",
          "height": 283
        },
        "outputId": "8dea65fa-3cec-4b0c-feea-73cc80985208"
      },
      "source": [
        "plot_confusion_matrix(model_logit, X_test, y_test)  \n",
        "plt.show()"
      ],
      "execution_count": null,
      "outputs": [
        {
          "output_type": "display_data",
          "data": {
            "image/png": "[encoded data removed]",
            "text/plain": [
              "<Figure size 432x288 with 2 Axes>"
            ]
          },
          "metadata": {
            "tags": [],
            "needs_background": "light"
          }
        }
      ]
    },
    {
      "cell_type": "code",
      "metadata": {
        "id": "rEtxwnS3GtUX",
        "colab": {
          "base_uri": "https://localhost:8080/"
        },
        "outputId": "a9d03f1a-d0f3-46a9-c3e6-96b33a5d5a61"
      },
      "source": [
        "most_informative_feature_for_binary_classification(features_class_corpus, model_logit, n=10)"
      ],
      "execution_count": null,
      "outputs": [
        {
          "output_type": "stream",
          "text": [
            "0 -0.5211564510807193 ford\n",
            "0 -0.3054758218366443 india\n",
            "0 -0.29336977199480013 washington\n",
            "0 -0.2872924321666823 red\n",
            "0 -0.2867816142734053 october\n",
            "0 -0.28377182298426995 cia\n",
            "0 -0.25985653269186404 captain\n",
            "0 -0.2292294671447466 hunt\n",
            "0 -0.2148227104866178 reality\n",
            "0 -0.19359641086174778 stone\n",
            "\n",
            "1 0.32185422396058794 robot\n",
            "1 0.2872134520045908 site\n",
            "1 0.28403099912558794 link\n",
            "1 0.28403099912558794 external\n",
            "1 0.24675042720393647 paris\n",
            "1 0.22689249845734125 carter\n",
            "1 0.1826594219883004 alice\n",
            "1 0.17516668014118905 turing\n",
            "1 0.16922309441269323 jungle\n",
            "1 0.16549873534707424 story\n"
          ],
          "name": "stdout"
        }
      ]
    },
    {
      "cell_type": "code",
      "metadata": {
        "id": "vMuK6i5TGtUX",
        "colab": {
          "base_uri": "https://localhost:8080/"
        },
        "outputId": "9a6aec18-a793-499b-a835-73c3a3948d00"
      },
      "source": [
        "model_nb, predictions, accy = sklearn_classifiers(X_train, X_test, y_train, y_test ,'naive_bayes')\n",
        "accy"
      ],
      "execution_count": null,
      "outputs": [
        {
          "output_type": "stream",
          "text": [
            "naive_bayes\n"
          ],
          "name": "stdout"
        },
        {
          "output_type": "execute_result",
          "data": {
            "text/plain": [
              "0.7777777777777778"
            ]
          },
          "metadata": {
            "tags": []
          },
          "execution_count": 58
        }
      ]
    },
    {
      "cell_type": "code",
      "metadata": {
        "id": "itTMmZJtGtUY",
        "colab": {
          "base_uri": "https://localhost:8080/",
          "height": 283
        },
        "outputId": "5df6ae61-2175-4d8e-d7f9-37586f9877f5"
      },
      "source": [
        "plot_confusion_matrix(model_nb, X_test, y_test)  \n",
        "plt.show()"
      ],
      "execution_count": null,
      "outputs": [
        {
          "output_type": "display_data",
          "data": {
            "image/png": "[encoded data removed]",
            "text/plain": [
              "<Figure size 432x288 with 2 Axes>"
            ]
          },
          "metadata": {
            "tags": [],
            "needs_background": "light"
          }
        }
      ]
    },
    {
      "cell_type": "code",
      "metadata": {
        "id": "GnZnAIDaGtUY",
        "colab": {
          "base_uri": "https://localhost:8080/"
        },
        "outputId": "875d0616-f59f-41cf-b842-e9f198dad9b2"
      },
      "source": [
        "most_informative_feature_for_binary_classification(features_class_corpus, model_nb, n=10)"
      ],
      "execution_count": null,
      "outputs": [
        {
          "output_type": "stream",
          "text": [
            "0 -7.428097788563016 13\n",
            "0 -7.428097788563016 2007\n",
            "0 -7.428097788563016 5th\n",
            "0 -7.428097788563016 ability\n",
            "0 -7.428097788563016 aboard\n",
            "0 -7.428097788563016 accepted\n",
            "0 -7.428097788563016 across\n",
            "0 -7.428097788563016 acting\n",
            "0 -7.428097788563016 added\n",
            "0 -7.428097788563016 admirer\n",
            "\n",
            "1 -6.5171862480021145 link\n",
            "1 -6.5171862480021145 external\n",
            "1 -6.524509654337906 site\n",
            "1 -6.747122323016045 robot\n",
            "1 -6.821523969527449 wa\n",
            "1 -6.846271008073575 computer\n",
            "1 -6.848705931524994 story\n",
            "1 -6.876605386285523 paris\n",
            "1 -6.87793208789448 disney\n",
            "1 -6.930302336931296 man\n"
          ],
          "name": "stdout"
        }
      ]
    }
  ]
}